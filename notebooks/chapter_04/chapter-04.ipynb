{
 "cells": [
  {
   "cell_type": "code",
   "execution_count": 1,
   "metadata": {},
   "outputs": [],
   "source": [
    "# Bandits"
   ]
  },
  {
   "cell_type": "code",
   "execution_count": 2,
   "metadata": {},
   "outputs": [],
   "source": [
    "import warnings ; warnings.filterwarnings('ignore')\n",
    "\n",
    "import gym\n",
    "import gym_bandits\n",
    "import numpy as np\n",
    "from scipy.special import softmax as softmax_fn\n",
    "from pprint import pprint\n",
    "from tqdm import tqdm_notebook as tqdm\n",
    "\n",
    "from itertools import cycle\n",
    "\n",
    "import sys\n",
    "import random\n",
    "import matplotlib\n",
    "import matplotlib.pyplot as plt\n",
    "import matplotlib.pylab as pylab\n",
    "SEEDS = (12, 34, 56, 78, 90)\n",
    "\n",
    "%matplotlib inline"
   ]
  },
  {
   "cell_type": "code",
   "execution_count": 3,
   "metadata": {},
   "outputs": [],
   "source": [
    "plt.style.use('fivethirtyeight')\n",
    "params = {\n",
    "    'figure.figsize': (15, 8),\n",
    "    'font.size': 24,\n",
    "    'legend.fontsize': 20,\n",
    "    'axes.titlesize': 28,\n",
    "    'axes.labelsize': 24,\n",
    "    'xtick.labelsize': 20,\n",
    "    'ytick.labelsize': 20\n",
    "}\n",
    "pylab.rcParams.update(params)\n",
    "np.set_printoptions(suppress=True)"
   ]
  },
  {
   "cell_type": "markdown",
   "metadata": {},
   "source": [
    "# Baseline strategies"
   ]
  },
  {
   "cell_type": "code",
   "execution_count": 4,
   "metadata": {},
   "outputs": [
    {
     "data": {
      "application/vnd.jupyter.widget-view+json": {
       "model_id": "",
       "version_major": 2,
       "version_minor": 0
      },
      "text/plain": [
       "HBox(children=(FloatProgress(value=0.0, description='Episodes for: Pure exploitation', style=ProgressStyle(des…"
      ]
     },
     "metadata": {},
     "output_type": "display_data"
    },
    {
     "name": "stdout",
     "output_type": "stream",
     "text": [
      "\r"
     ]
    }
   ],
   "source": [
    "def pure_exploitation(env, n_episodes=1000):\n",
    "    # Array storing the Q function values for each action in the action space:\n",
    "    Q = np.zeros((env.action_space.n), dtype=np.float64)\n",
    "    # Array storing the counts of how many times each action in the action space is performed:\n",
    "    N = np.zeros((env.action_space.n), dtype=np.int)\n",
    "    # Array storing the Q function values for each action, at each iteration of the training:\n",
    "    Qe = np.empty((n_episodes, env.action_space.n), dtype=np.float64)\n",
    "    # Array storing the rewards received at each iteration of the training:\n",
    "    returns = np.empty(n_episodes, dtype=np.float64)\n",
    "    # Array storing the actions taken at each iteration of the training:\n",
    "    actions = np.empty(n_episodes, dtype=np.int)\n",
    "    name = 'Pure exploitation'\n",
    "    for e in tqdm(range(n_episodes), \n",
    "                  desc='Episodes for: ' + name, \n",
    "                  leave=False):\n",
    "        \n",
    "        # This is the heart of the algorithm; at each step perform the  \n",
    "        # action with the highest current Q function value:\n",
    "        action = np.argmax(Q)\n",
    "\n",
    "        _, reward, _, _ = env.step(action)\n",
    "        N[action] += 1\n",
    "        \n",
    "        # Add the difference between the reward at this step and the current Q value\n",
    "        # for the action. Weight it by the number of times the action has been \n",
    "        # performed to produce the average. \n",
    "        Q[action] = Q[action] + (reward - Q[action])/N[action]\n",
    "        \n",
    "        Qe[e] = Q\n",
    "        returns[e] = reward\n",
    "        actions[e] = action\n",
    "    return name, returns, Qe, actions\n",
    "\n",
    "\n",
    "env = gym.make('BanditTwoArmedUniform-v0', seed=42); env.reset()\n",
    "name, returns, Qe, actions = pure_exploitation(env, n_episodes=100)"
   ]
  },
  {
   "cell_type": "code",
   "execution_count": 5,
   "metadata": {},
   "outputs": [
    {
     "data": {
      "application/vnd.jupyter.widget-view+json": {
       "model_id": "",
       "version_major": 2,
       "version_minor": 0
      },
      "text/plain": [
       "HBox(children=(FloatProgress(value=0.0, description='Episodes for: Pure exploration', style=ProgressStyle(desc…"
      ]
     },
     "metadata": {},
     "output_type": "display_data"
    },
    {
     "name": "stdout",
     "output_type": "stream",
     "text": [
      "\r"
     ]
    }
   ],
   "source": [
    "def pure_exploration(env, n_episodes=1000):\n",
    "    Q = np.zeros((env.action_space.n), dtype=np.float64)\n",
    "    N = np.zeros((env.action_space.n), dtype=np.int)\n",
    "\n",
    "    Qe = np.empty((n_episodes, env.action_space.n), dtype=np.float64)\n",
    "    returns = np.empty(n_episodes, dtype=np.float64)\n",
    "    actions = np.empty(n_episodes, dtype=np.int)\n",
    "    name = 'Pure exploration'\n",
    "    for e in tqdm(range(n_episodes), \n",
    "                  desc='Episodes for: ' + name, \n",
    "                  leave=False):\n",
    "        \n",
    "        # The difference in this algorithm from pure exploitation is that the \n",
    "        # actions are chosen uniformly at random, with no consideration for \n",
    "        # the current Q-value estimate for that action.\n",
    "        action = np.random.randint(len(Q))\n",
    "        \n",
    "        _, reward, _, _ = env.step(action)\n",
    "        N[action] += 1\n",
    "        Q[action] = Q[action] + (reward - Q[action])/N[action]\n",
    "        \n",
    "        Qe[e] = Q\n",
    "        returns[e] = reward\n",
    "        actions[e] = action\n",
    "    return name, returns, Qe, actions\n",
    "\n",
    "\n",
    "env = gym.make('BanditTwoArmedUniform-v0', seed=42); env.reset()\n",
    "name, returns, Qe, actions = pure_exploration(env, n_episodes=100)"
   ]
  },
  {
   "cell_type": "markdown",
   "metadata": {},
   "source": [
    "# Simple strategies"
   ]
  },
  {
   "cell_type": "code",
   "execution_count": 6,
   "metadata": {},
   "outputs": [
    {
     "data": {
      "application/vnd.jupyter.widget-view+json": {
       "model_id": "",
       "version_major": 2,
       "version_minor": 0
      },
      "text/plain": [
       "HBox(children=(FloatProgress(value=0.0, description='Episodes for: Epsilon-Greedy 0.01', style=ProgressStyle(d…"
      ]
     },
     "metadata": {},
     "output_type": "display_data"
    },
    {
     "name": "stdout",
     "output_type": "stream",
     "text": [
      "\r"
     ]
    }
   ],
   "source": [
    "def epsilon_greedy(env, epsilon=0.01, n_episodes=1000):\n",
    "    Q = np.zeros((env.action_space.n), dtype=np.float64)\n",
    "    N = np.zeros((env.action_space.n), dtype=np.int)\n",
    "\n",
    "    Qe = np.empty((n_episodes, env.action_space.n), dtype=np.float64)\n",
    "    returns = np.empty(n_episodes, dtype=np.float64)\n",
    "    actions = np.empty(n_episodes, dtype=np.int)\n",
    "    name = 'Epsilon-Greedy {}'.format(epsilon)\n",
    "    for e in tqdm(range(n_episodes), \n",
    "                  desc='Episodes for: ' + name, \n",
    "                  leave=False):\n",
    "        \n",
    "        # Alternates between the pure exploitation and exploration strategies,\n",
    "        # choosing the exploitation strategy 1-epsilon times on average.\n",
    "        if np.random.uniform() > epsilon:\n",
    "            action = np.argmax(Q)\n",
    "        else:\n",
    "            action = np.random.randint(len(Q))\n",
    "\n",
    "        _, reward, _, _ = env.step(action)\n",
    "        N[action] += 1\n",
    "        Q[action] = Q[action] + (reward - Q[action])/N[action]\n",
    "        \n",
    "        Qe[e] = Q\n",
    "        returns[e] = reward\n",
    "        actions[e] = action\n",
    "    return name, returns, Qe, actions\n",
    "\n",
    "\n",
    "env = gym.make('BanditTwoArmedUniform-v0', seed=42); env.reset()\n",
    "name, returns, Qe, actions = epsilon_greedy(env, n_episodes=100)"
   ]
  },
  {
   "cell_type": "code",
   "execution_count": 7,
   "metadata": {},
   "outputs": [
    {
     "data": {
      "application/vnd.jupyter.widget-view+json": {
       "model_id": "",
       "version_major": 2,
       "version_minor": 0
      },
      "text/plain": [
       "HBox(children=(FloatProgress(value=0.0, description='Episodes for: Lin Epsilon-Greedy 1.0, 0.01, 0.05', style=…"
      ]
     },
     "metadata": {},
     "output_type": "display_data"
    },
    {
     "name": "stdout",
     "output_type": "stream",
     "text": [
      "\r"
     ]
    }
   ],
   "source": [
    "def lin_dec_epsilon_greedy(env, init_epsilon=1.0, min_epsilon=0.01, \n",
    "                           decay_ratio=0.05, n_episodes=1000):\n",
    "    Q = np.zeros((env.action_space.n), dtype=np.float64)\n",
    "    N = np.zeros((env.action_space.n), dtype=np.int)\n",
    "\n",
    "    Qe = np.empty((n_episodes, env.action_space.n), dtype=np.float64)\n",
    "    returns = np.empty(n_episodes, dtype=np.float64)\n",
    "    actions = np.empty(n_episodes, dtype=np.int)\n",
    "    name = 'Lin Epsilon-Greedy {}, {}, {}'.format(init_epsilon, \n",
    "                                          min_epsilon, \n",
    "                                          decay_ratio)\n",
    "    \n",
    "    # Calculate the number of episodes in the loop in which epsilon \n",
    "    # will decay, before it settles at min_epsilon:\n",
    "    decay_episodes = n_episodes * decay_ratio\n",
    "    for e in tqdm(range(n_episodes), \n",
    "                  desc='Episodes for: ' + name, \n",
    "                  leave=False):\n",
    "        # Calculcate the current episode as a fraction of the total decay episodes:\n",
    "        epsilon = 1 - e / decay_episodes\n",
    "        # Multiply the fraction by the total range of values epsilon can take:\n",
    "        epsilon *= (init_epsilon - min_epsilon)\n",
    "        # Add minimum value to epsilon so that first value is 1:\n",
    "        epsilon += min_epsilon\n",
    "        # Clip epsilon to the minimum/maximum allowed values:\n",
    "        epsilon = np.clip(epsilon, min_epsilon, init_epsilon)\n",
    "        # Proceed as with epsilon_greedy strategy:\n",
    "        if np.random.uniform() > epsilon:\n",
    "            action = np.argmax(Q)\n",
    "        else:\n",
    "            action = np.random.randint(len(Q))\n",
    "\n",
    "        _, reward, _, _ = env.step(action)\n",
    "        N[action] += 1\n",
    "        Q[action] = Q[action] + (reward - Q[action])/N[action]\n",
    "        \n",
    "        Qe[e] = Q\n",
    "        returns[e] = reward\n",
    "        actions[e] = action\n",
    "    return name, returns, Qe, actions\n",
    "\n",
    "\n",
    "env = gym.make('BanditTwoArmedUniform-v0', seed=42); env.reset()\n",
    "name, returns, Qe, actions = lin_dec_epsilon_greedy(env, n_episodes=100)"
   ]
  },
  {
   "cell_type": "code",
   "execution_count": 8,
   "metadata": {},
   "outputs": [
    {
     "data": {
      "application/vnd.jupyter.widget-view+json": {
       "model_id": "",
       "version_major": 2,
       "version_minor": 0
      },
      "text/plain": [
       "HBox(children=(FloatProgress(value=0.0, description='Episodes for: Exp Epsilon-Greedy 1.0, 0.01, 0.1', style=P…"
      ]
     },
     "metadata": {},
     "output_type": "display_data"
    },
    {
     "name": "stdout",
     "output_type": "stream",
     "text": [
      "\r"
     ]
    }
   ],
   "source": [
    "def exp_dec_epsilon_greedy(env, \n",
    "                           init_epsilon=1.0,\n",
    "                           min_epsilon=0.01,\n",
    "                           decay_ratio=0.1,\n",
    "                           n_episodes=1000):\n",
    "    Q = np.zeros((env.action_space.n), dtype=np.float64)\n",
    "    N = np.zeros((env.action_space.n), dtype=np.int)\n",
    "\n",
    "    Qe = np.empty((n_episodes, env.action_space.n), dtype=np.float64)\n",
    "    returns = np.empty(n_episodes, dtype=np.float64)\n",
    "    actions = np.empty(n_episodes, dtype=np.int)\n",
    "\n",
    "    # Calculate the number of episodes in which epsilon \n",
    "    # will decay, before it settles at min_epsilon:\n",
    "    decay_episodes = int(n_episodes * decay_ratio)\n",
    "    # The remaining episodes in which epsilon will be min_epsilon:\n",
    "    rem_episodes = n_episodes - decay_episodes\n",
    "    # Create a logarithmically spaced array of epsilon values  \n",
    "    # for all decay episodes, ranging from 1 to 0.01:\n",
    "    epsilons = 0.01\n",
    "    epsilons /= np.logspace(-2, 0, decay_episodes)\n",
    "    # Multiply the logarithmic array by the total range of epsilon values:\n",
    "    epsilons *= init_epsilon - min_epsilon\n",
    "    # Add the min_epsilon value to the array so that the first value is 1:\n",
    "    epsilons += min_epsilon\n",
    "    # Pad the array with the min_epsilon value for all \n",
    "    # episodes after decay finishes:\n",
    "    epsilons = np.pad(epsilons, (0, rem_episodes), 'edge')\n",
    "    name = 'Exp Epsilon-Greedy {}, {}, {}'.format(init_epsilon, \n",
    "                                          min_epsilon, \n",
    "                                          decay_ratio)\n",
    "    for e in tqdm(range(n_episodes), \n",
    "                  desc='Episodes for: ' + name, \n",
    "                  leave=False):\n",
    "        # Proceed as with epsilon_greedy strategy, but get \n",
    "        # the epsilon from the epsilon array:\n",
    "        if np.random.uniform() > epsilons[e]:\n",
    "            action = np.argmax(Q)\n",
    "        else:\n",
    "            action = np.random.randint(len(Q))\n",
    "\n",
    "        _, reward, _, _ = env.step(action)\n",
    "        N[action] += 1\n",
    "        Q[action] = Q[action] + (reward - Q[action])/N[action]\n",
    "        \n",
    "        Qe[e] = Q\n",
    "        returns[e] = reward\n",
    "        actions[e] = action\n",
    "    return name, returns, Qe, actions\n",
    "\n",
    "\n",
    "env = gym.make('BanditTwoArmedUniform-v0', seed=42); env.reset()\n",
    "name, returns, Qe, actions = exp_dec_epsilon_greedy(env, n_episodes=100)"
   ]
  },
  {
   "cell_type": "code",
   "execution_count": 12,
   "metadata": {},
   "outputs": [
    {
     "data": {
      "application/vnd.jupyter.widget-view+json": {
       "model_id": "",
       "version_major": 2,
       "version_minor": 0
      },
      "text/plain": [
       "HBox(children=(FloatProgress(value=0.0, description='Episodes for: Optimistic 1.0, 100', style=ProgressStyle(d…"
      ]
     },
     "metadata": {},
     "output_type": "display_data"
    },
    {
     "name": "stdout",
     "output_type": "stream",
     "text": [
      "\r"
     ]
    }
   ],
   "source": [
    "def optimistic_initialization(env, \n",
    "                              optimistic_estimate=1.0,\n",
    "                              initial_count=100,\n",
    "                              n_episodes=1000):\n",
    "    # Initialize the Q values with the optimistic_estimate \n",
    "    # (this requires knowing the maximum possible reward ahead\n",
    "    # of time, which isn't always realistic).\n",
    "    Q = np.full((env.action_space.n), optimistic_estimate, dtype=np.float64)\n",
    "    # Counts must be initialized with values to prevent  \n",
    "    # division by zero errors:\n",
    "    N = np.full((env.action_space.n), initial_count, dtype=np.int)\n",
    "    \n",
    "    Qe = np.empty((n_episodes, env.action_space.n), dtype=np.float64)\n",
    "    returns = np.empty(n_episodes, dtype=np.float64)\n",
    "    actions = np.empty(n_episodes, dtype=np.int)\n",
    "    name = 'Optimistic {}, {}'.format(optimistic_estimate, \n",
    "                                     initial_count)\n",
    "    for e in tqdm(range(n_episodes), \n",
    "                  desc='Episodes for: ' + name, \n",
    "                  leave=False):\n",
    "        action = np.argmax(Q)\n",
    "\n",
    "        _, reward, _, _ = env.step(action)\n",
    "        N[action] += 1\n",
    "        # Exactly the same as the pure expoitation strategy, but\n",
    "        # effect this time will be to reduce Q values for each action:\n",
    "        Q[action] = Q[action] + (reward - Q[action])/N[action]\n",
    "\n",
    "        Qe[e] = Q\n",
    "        returns[e] = reward\n",
    "        actions[e] = action\n",
    "    return name, returns, Qe, actions\n",
    "\n",
    "\n",
    "env = gym.make('BanditTwoArmedUniform-v0', seed=42); env.reset()\n",
    "name, returns, Qe, actions = optimistic_initialization(env, n_episodes=100)"
   ]
  },
  {
   "cell_type": "markdown",
   "metadata": {},
   "source": [
    "# Two-Armed Bandit environments"
   ]
  },
  {
   "cell_type": "code",
   "execution_count": 13,
   "metadata": {},
   "outputs": [
    {
     "name": "stdout",
     "output_type": "stream",
     "text": [
      "Two-Armed Bandit environment with seed 12\n",
      "Probability of reward: [0.41630234 0.5545003 ]\n",
      "Reward: [1 1]\n",
      "Q(.): [0.41630234 0.5545003 ]\n",
      "V*: 0.5545003042316209\n",
      "\n",
      "Two-Armed Bandit environment with seed 34\n",
      "Probability of reward: [0.88039337 0.56881791]\n",
      "Reward: [1 1]\n",
      "Q(.): [0.88039337 0.56881791]\n",
      "V*: 0.8803933660102791\n",
      "\n",
      "Two-Armed Bandit environment with seed 56\n",
      "Probability of reward: [0.44859284 0.9499771 ]\n",
      "Reward: [1 1]\n",
      "Q(.): [0.44859284 0.9499771 ]\n",
      "V*: 0.9499771030206514\n",
      "\n",
      "Two-Armed Bandit environment with seed 78\n",
      "Probability of reward: [0.53235706 0.84511988]\n",
      "Reward: [1 1]\n",
      "Q(.): [0.53235706 0.84511988]\n",
      "V*: 0.8451198776828125\n",
      "\n",
      "Two-Armed Bandit environment with seed 90\n",
      "Probability of reward: [0.56461729 0.91744039]\n",
      "Reward: [1 1]\n",
      "Q(.): [0.56461729 0.91744039]\n",
      "V*: 0.9174403942290458\n",
      "\n",
      "Mean V* across all seeds: 0.8294862090348818\n"
     ]
    }
   ],
   "source": [
    "b2_Vs = []\n",
    "for seed in SEEDS:\n",
    "    env_name = 'BanditTwoArmedUniform-v0'\n",
    "    env = gym.make(env_name, seed=seed) ; env.reset()\n",
    "    b2_Q = np.array(env.env.p_dist * env.env.r_dist)\n",
    "    print('Two-Armed Bandit environment with seed', seed)\n",
    "    print('Probability of reward:', env.env.p_dist)\n",
    "    print('Reward:', env.env.r_dist)\n",
    "    print('Q(.):', b2_Q)\n",
    "    b2_Vs.append(np.max(b2_Q))\n",
    "    print('V*:', b2_Vs[-1])\n",
    "    print()\n",
    "print('Mean V* across all seeds:', np.mean(b2_Vs))"
   ]
  },
  {
   "cell_type": "markdown",
   "metadata": {},
   "source": [
    "# Running simple strategies on Two-Armed Bandit environments"
   ]
  },
  {
   "cell_type": "code",
   "execution_count": 14,
   "metadata": {
    "scrolled": false
   },
   "outputs": [
    {
     "data": {
      "application/vnd.jupyter.widget-view+json": {
       "model_id": "7658bfe162974e4c813119687e62e511",
       "version_major": 2,
       "version_minor": 0
      },
      "text/plain": [
       "HBox(children=(FloatProgress(value=0.0, description='All experiments', max=5.0, style=ProgressStyle(descriptio…"
      ]
     },
     "metadata": {},
     "output_type": "display_data"
    },
    {
     "data": {
      "application/vnd.jupyter.widget-view+json": {
       "model_id": "",
       "version_major": 2,
       "version_minor": 0
      },
      "text/plain": [
       "HBox(children=(FloatProgress(value=0.0, description='All environments', max=5.0, style=ProgressStyle(descripti…"
      ]
     },
     "metadata": {},
     "output_type": "display_data"
    },
    {
     "data": {
      "application/vnd.jupyter.widget-view+json": {
       "model_id": "",
       "version_major": 2,
       "version_minor": 0
      },
      "text/plain": [
       "HBox(children=(FloatProgress(value=0.0, description='Experiments with seed 12', max=10.0, style=ProgressStyle(…"
      ]
     },
     "metadata": {},
     "output_type": "display_data"
    },
    {
     "data": {
      "application/vnd.jupyter.widget-view+json": {
       "model_id": "",
       "version_major": 2,
       "version_minor": 0
      },
      "text/plain": [
       "HBox(children=(FloatProgress(value=0.0, description='Episodes for: Pure exploitation', max=1000.0, style=Progr…"
      ]
     },
     "metadata": {},
     "output_type": "display_data"
    },
    {
     "data": {
      "application/vnd.jupyter.widget-view+json": {
       "model_id": "",
       "version_major": 2,
       "version_minor": 0
      },
      "text/plain": [
       "HBox(children=(FloatProgress(value=0.0, description='Episodes for: Pure exploration', max=1000.0, style=Progre…"
      ]
     },
     "metadata": {},
     "output_type": "display_data"
    },
    {
     "data": {
      "application/vnd.jupyter.widget-view+json": {
       "model_id": "",
       "version_major": 2,
       "version_minor": 0
      },
      "text/plain": [
       "HBox(children=(FloatProgress(value=0.0, description='Episodes for: Epsilon-Greedy 0.07', max=1000.0, style=Pro…"
      ]
     },
     "metadata": {},
     "output_type": "display_data"
    },
    {
     "data": {
      "application/vnd.jupyter.widget-view+json": {
       "model_id": "",
       "version_major": 2,
       "version_minor": 0
      },
      "text/plain": [
       "HBox(children=(FloatProgress(value=0.0, description='Episodes for: Epsilon-Greedy 0.1', max=1000.0, style=Prog…"
      ]
     },
     "metadata": {},
     "output_type": "display_data"
    },
    {
     "data": {
      "application/vnd.jupyter.widget-view+json": {
       "model_id": "",
       "version_major": 2,
       "version_minor": 0
      },
      "text/plain": [
       "HBox(children=(FloatProgress(value=0.0, description='Episodes for: Lin Epsilon-Greedy 1.0, 0.0, 0.1', max=1000…"
      ]
     },
     "metadata": {},
     "output_type": "display_data"
    },
    {
     "data": {
      "application/vnd.jupyter.widget-view+json": {
       "model_id": "",
       "version_major": 2,
       "version_minor": 0
      },
      "text/plain": [
       "HBox(children=(FloatProgress(value=0.0, description='Episodes for: Lin Epsilon-Greedy 0.3, 0.001, 0.1', max=10…"
      ]
     },
     "metadata": {},
     "output_type": "display_data"
    },
    {
     "data": {
      "application/vnd.jupyter.widget-view+json": {
       "model_id": "",
       "version_major": 2,
       "version_minor": 0
      },
      "text/plain": [
       "HBox(children=(FloatProgress(value=0.0, description='Episodes for: Exp Epsilon-Greedy 1.0, 0.0, 0.1', max=1000…"
      ]
     },
     "metadata": {},
     "output_type": "display_data"
    },
    {
     "data": {
      "application/vnd.jupyter.widget-view+json": {
       "model_id": "",
       "version_major": 2,
       "version_minor": 0
      },
      "text/plain": [
       "HBox(children=(FloatProgress(value=0.0, description='Episodes for: Exp Epsilon-Greedy 0.3, 0.0, 0.3', max=1000…"
      ]
     },
     "metadata": {},
     "output_type": "display_data"
    },
    {
     "data": {
      "application/vnd.jupyter.widget-view+json": {
       "model_id": "",
       "version_major": 2,
       "version_minor": 0
      },
      "text/plain": [
       "HBox(children=(FloatProgress(value=0.0, description='Episodes for: Optimistic 1.0, 10', max=1000.0, style=Prog…"
      ]
     },
     "metadata": {},
     "output_type": "display_data"
    },
    {
     "data": {
      "application/vnd.jupyter.widget-view+json": {
       "model_id": "",
       "version_major": 2,
       "version_minor": 0
      },
      "text/plain": [
       "HBox(children=(FloatProgress(value=0.0, description='Episodes for: Optimistic 1.0, 50', max=1000.0, style=Prog…"
      ]
     },
     "metadata": {},
     "output_type": "display_data"
    },
    {
     "data": {
      "application/vnd.jupyter.widget-view+json": {
       "model_id": "",
       "version_major": 2,
       "version_minor": 0
      },
      "text/plain": [
       "HBox(children=(FloatProgress(value=0.0, description='Experiments with seed 34', max=10.0, style=ProgressStyle(…"
      ]
     },
     "metadata": {},
     "output_type": "display_data"
    },
    {
     "data": {
      "application/vnd.jupyter.widget-view+json": {
       "model_id": "",
       "version_major": 2,
       "version_minor": 0
      },
      "text/plain": [
       "HBox(children=(FloatProgress(value=0.0, description='Episodes for: Pure exploitation', max=1000.0, style=Progr…"
      ]
     },
     "metadata": {},
     "output_type": "display_data"
    },
    {
     "data": {
      "application/vnd.jupyter.widget-view+json": {
       "model_id": "",
       "version_major": 2,
       "version_minor": 0
      },
      "text/plain": [
       "HBox(children=(FloatProgress(value=0.0, description='Episodes for: Pure exploration', max=1000.0, style=Progre…"
      ]
     },
     "metadata": {},
     "output_type": "display_data"
    },
    {
     "data": {
      "application/vnd.jupyter.widget-view+json": {
       "model_id": "",
       "version_major": 2,
       "version_minor": 0
      },
      "text/plain": [
       "HBox(children=(FloatProgress(value=0.0, description='Episodes for: Epsilon-Greedy 0.07', max=1000.0, style=Pro…"
      ]
     },
     "metadata": {},
     "output_type": "display_data"
    },
    {
     "data": {
      "application/vnd.jupyter.widget-view+json": {
       "model_id": "",
       "version_major": 2,
       "version_minor": 0
      },
      "text/plain": [
       "HBox(children=(FloatProgress(value=0.0, description='Episodes for: Epsilon-Greedy 0.1', max=1000.0, style=Prog…"
      ]
     },
     "metadata": {},
     "output_type": "display_data"
    },
    {
     "data": {
      "application/vnd.jupyter.widget-view+json": {
       "model_id": "",
       "version_major": 2,
       "version_minor": 0
      },
      "text/plain": [
       "HBox(children=(FloatProgress(value=0.0, description='Episodes for: Lin Epsilon-Greedy 1.0, 0.0, 0.1', max=1000…"
      ]
     },
     "metadata": {},
     "output_type": "display_data"
    },
    {
     "data": {
      "application/vnd.jupyter.widget-view+json": {
       "model_id": "",
       "version_major": 2,
       "version_minor": 0
      },
      "text/plain": [
       "HBox(children=(FloatProgress(value=0.0, description='Episodes for: Lin Epsilon-Greedy 0.3, 0.001, 0.1', max=10…"
      ]
     },
     "metadata": {},
     "output_type": "display_data"
    },
    {
     "data": {
      "application/vnd.jupyter.widget-view+json": {
       "model_id": "",
       "version_major": 2,
       "version_minor": 0
      },
      "text/plain": [
       "HBox(children=(FloatProgress(value=0.0, description='Episodes for: Exp Epsilon-Greedy 1.0, 0.0, 0.1', max=1000…"
      ]
     },
     "metadata": {},
     "output_type": "display_data"
    },
    {
     "data": {
      "application/vnd.jupyter.widget-view+json": {
       "model_id": "",
       "version_major": 2,
       "version_minor": 0
      },
      "text/plain": [
       "HBox(children=(FloatProgress(value=0.0, description='Episodes for: Exp Epsilon-Greedy 0.3, 0.0, 0.3', max=1000…"
      ]
     },
     "metadata": {},
     "output_type": "display_data"
    },
    {
     "data": {
      "application/vnd.jupyter.widget-view+json": {
       "model_id": "",
       "version_major": 2,
       "version_minor": 0
      },
      "text/plain": [
       "HBox(children=(FloatProgress(value=0.0, description='Episodes for: Optimistic 1.0, 10', max=1000.0, style=Prog…"
      ]
     },
     "metadata": {},
     "output_type": "display_data"
    },
    {
     "data": {
      "application/vnd.jupyter.widget-view+json": {
       "model_id": "",
       "version_major": 2,
       "version_minor": 0
      },
      "text/plain": [
       "HBox(children=(FloatProgress(value=0.0, description='Episodes for: Optimistic 1.0, 50', max=1000.0, style=Prog…"
      ]
     },
     "metadata": {},
     "output_type": "display_data"
    },
    {
     "data": {
      "application/vnd.jupyter.widget-view+json": {
       "model_id": "",
       "version_major": 2,
       "version_minor": 0
      },
      "text/plain": [
       "HBox(children=(FloatProgress(value=0.0, description='Experiments with seed 56', max=10.0, style=ProgressStyle(…"
      ]
     },
     "metadata": {},
     "output_type": "display_data"
    },
    {
     "data": {
      "application/vnd.jupyter.widget-view+json": {
       "model_id": "",
       "version_major": 2,
       "version_minor": 0
      },
      "text/plain": [
       "HBox(children=(FloatProgress(value=0.0, description='Episodes for: Pure exploitation', max=1000.0, style=Progr…"
      ]
     },
     "metadata": {},
     "output_type": "display_data"
    },
    {
     "data": {
      "application/vnd.jupyter.widget-view+json": {
       "model_id": "",
       "version_major": 2,
       "version_minor": 0
      },
      "text/plain": [
       "HBox(children=(FloatProgress(value=0.0, description='Episodes for: Pure exploration', max=1000.0, style=Progre…"
      ]
     },
     "metadata": {},
     "output_type": "display_data"
    },
    {
     "data": {
      "application/vnd.jupyter.widget-view+json": {
       "model_id": "",
       "version_major": 2,
       "version_minor": 0
      },
      "text/plain": [
       "HBox(children=(FloatProgress(value=0.0, description='Episodes for: Epsilon-Greedy 0.07', max=1000.0, style=Pro…"
      ]
     },
     "metadata": {},
     "output_type": "display_data"
    },
    {
     "data": {
      "application/vnd.jupyter.widget-view+json": {
       "model_id": "",
       "version_major": 2,
       "version_minor": 0
      },
      "text/plain": [
       "HBox(children=(FloatProgress(value=0.0, description='Episodes for: Epsilon-Greedy 0.1', max=1000.0, style=Prog…"
      ]
     },
     "metadata": {},
     "output_type": "display_data"
    },
    {
     "data": {
      "application/vnd.jupyter.widget-view+json": {
       "model_id": "",
       "version_major": 2,
       "version_minor": 0
      },
      "text/plain": [
       "HBox(children=(FloatProgress(value=0.0, description='Episodes for: Lin Epsilon-Greedy 1.0, 0.0, 0.1', max=1000…"
      ]
     },
     "metadata": {},
     "output_type": "display_data"
    },
    {
     "data": {
      "application/vnd.jupyter.widget-view+json": {
       "model_id": "",
       "version_major": 2,
       "version_minor": 0
      },
      "text/plain": [
       "HBox(children=(FloatProgress(value=0.0, description='Episodes for: Lin Epsilon-Greedy 0.3, 0.001, 0.1', max=10…"
      ]
     },
     "metadata": {},
     "output_type": "display_data"
    },
    {
     "data": {
      "application/vnd.jupyter.widget-view+json": {
       "model_id": "",
       "version_major": 2,
       "version_minor": 0
      },
      "text/plain": [
       "HBox(children=(FloatProgress(value=0.0, description='Episodes for: Exp Epsilon-Greedy 1.0, 0.0, 0.1', max=1000…"
      ]
     },
     "metadata": {},
     "output_type": "display_data"
    },
    {
     "data": {
      "application/vnd.jupyter.widget-view+json": {
       "model_id": "",
       "version_major": 2,
       "version_minor": 0
      },
      "text/plain": [
       "HBox(children=(FloatProgress(value=0.0, description='Episodes for: Exp Epsilon-Greedy 0.3, 0.0, 0.3', max=1000…"
      ]
     },
     "metadata": {},
     "output_type": "display_data"
    },
    {
     "data": {
      "application/vnd.jupyter.widget-view+json": {
       "model_id": "",
       "version_major": 2,
       "version_minor": 0
      },
      "text/plain": [
       "HBox(children=(FloatProgress(value=0.0, description='Episodes for: Optimistic 1.0, 10', max=1000.0, style=Prog…"
      ]
     },
     "metadata": {},
     "output_type": "display_data"
    },
    {
     "data": {
      "application/vnd.jupyter.widget-view+json": {
       "model_id": "",
       "version_major": 2,
       "version_minor": 0
      },
      "text/plain": [
       "HBox(children=(FloatProgress(value=0.0, description='Episodes for: Optimistic 1.0, 50', max=1000.0, style=Prog…"
      ]
     },
     "metadata": {},
     "output_type": "display_data"
    },
    {
     "data": {
      "application/vnd.jupyter.widget-view+json": {
       "model_id": "",
       "version_major": 2,
       "version_minor": 0
      },
      "text/plain": [
       "HBox(children=(FloatProgress(value=0.0, description='Experiments with seed 78', max=10.0, style=ProgressStyle(…"
      ]
     },
     "metadata": {},
     "output_type": "display_data"
    },
    {
     "data": {
      "application/vnd.jupyter.widget-view+json": {
       "model_id": "",
       "version_major": 2,
       "version_minor": 0
      },
      "text/plain": [
       "HBox(children=(FloatProgress(value=0.0, description='Episodes for: Pure exploitation', max=1000.0, style=Progr…"
      ]
     },
     "metadata": {},
     "output_type": "display_data"
    },
    {
     "data": {
      "application/vnd.jupyter.widget-view+json": {
       "model_id": "",
       "version_major": 2,
       "version_minor": 0
      },
      "text/plain": [
       "HBox(children=(FloatProgress(value=0.0, description='Episodes for: Pure exploration', max=1000.0, style=Progre…"
      ]
     },
     "metadata": {},
     "output_type": "display_data"
    },
    {
     "data": {
      "application/vnd.jupyter.widget-view+json": {
       "model_id": "",
       "version_major": 2,
       "version_minor": 0
      },
      "text/plain": [
       "HBox(children=(FloatProgress(value=0.0, description='Episodes for: Epsilon-Greedy 0.07', max=1000.0, style=Pro…"
      ]
     },
     "metadata": {},
     "output_type": "display_data"
    },
    {
     "data": {
      "application/vnd.jupyter.widget-view+json": {
       "model_id": "",
       "version_major": 2,
       "version_minor": 0
      },
      "text/plain": [
       "HBox(children=(FloatProgress(value=0.0, description='Episodes for: Epsilon-Greedy 0.1', max=1000.0, style=Prog…"
      ]
     },
     "metadata": {},
     "output_type": "display_data"
    },
    {
     "data": {
      "application/vnd.jupyter.widget-view+json": {
       "model_id": "",
       "version_major": 2,
       "version_minor": 0
      },
      "text/plain": [
       "HBox(children=(FloatProgress(value=0.0, description='Episodes for: Lin Epsilon-Greedy 1.0, 0.0, 0.1', max=1000…"
      ]
     },
     "metadata": {},
     "output_type": "display_data"
    },
    {
     "data": {
      "application/vnd.jupyter.widget-view+json": {
       "model_id": "",
       "version_major": 2,
       "version_minor": 0
      },
      "text/plain": [
       "HBox(children=(FloatProgress(value=0.0, description='Episodes for: Lin Epsilon-Greedy 0.3, 0.001, 0.1', max=10…"
      ]
     },
     "metadata": {},
     "output_type": "display_data"
    },
    {
     "data": {
      "application/vnd.jupyter.widget-view+json": {
       "model_id": "",
       "version_major": 2,
       "version_minor": 0
      },
      "text/plain": [
       "HBox(children=(FloatProgress(value=0.0, description='Episodes for: Exp Epsilon-Greedy 1.0, 0.0, 0.1', max=1000…"
      ]
     },
     "metadata": {},
     "output_type": "display_data"
    },
    {
     "data": {
      "application/vnd.jupyter.widget-view+json": {
       "model_id": "",
       "version_major": 2,
       "version_minor": 0
      },
      "text/plain": [
       "HBox(children=(FloatProgress(value=0.0, description='Episodes for: Exp Epsilon-Greedy 0.3, 0.0, 0.3', max=1000…"
      ]
     },
     "metadata": {},
     "output_type": "display_data"
    },
    {
     "data": {
      "application/vnd.jupyter.widget-view+json": {
       "model_id": "",
       "version_major": 2,
       "version_minor": 0
      },
      "text/plain": [
       "HBox(children=(FloatProgress(value=0.0, description='Episodes for: Optimistic 1.0, 10', max=1000.0, style=Prog…"
      ]
     },
     "metadata": {},
     "output_type": "display_data"
    },
    {
     "data": {
      "application/vnd.jupyter.widget-view+json": {
       "model_id": "",
       "version_major": 2,
       "version_minor": 0
      },
      "text/plain": [
       "HBox(children=(FloatProgress(value=0.0, description='Episodes for: Optimistic 1.0, 50', max=1000.0, style=Prog…"
      ]
     },
     "metadata": {},
     "output_type": "display_data"
    },
    {
     "data": {
      "application/vnd.jupyter.widget-view+json": {
       "model_id": "",
       "version_major": 2,
       "version_minor": 0
      },
      "text/plain": [
       "HBox(children=(FloatProgress(value=0.0, description='Experiments with seed 90', max=10.0, style=ProgressStyle(…"
      ]
     },
     "metadata": {},
     "output_type": "display_data"
    },
    {
     "data": {
      "application/vnd.jupyter.widget-view+json": {
       "model_id": "",
       "version_major": 2,
       "version_minor": 0
      },
      "text/plain": [
       "HBox(children=(FloatProgress(value=0.0, description='Episodes for: Pure exploitation', max=1000.0, style=Progr…"
      ]
     },
     "metadata": {},
     "output_type": "display_data"
    },
    {
     "data": {
      "application/vnd.jupyter.widget-view+json": {
       "model_id": "",
       "version_major": 2,
       "version_minor": 0
      },
      "text/plain": [
       "HBox(children=(FloatProgress(value=0.0, description='Episodes for: Pure exploration', max=1000.0, style=Progre…"
      ]
     },
     "metadata": {},
     "output_type": "display_data"
    },
    {
     "data": {
      "application/vnd.jupyter.widget-view+json": {
       "model_id": "",
       "version_major": 2,
       "version_minor": 0
      },
      "text/plain": [
       "HBox(children=(FloatProgress(value=0.0, description='Episodes for: Epsilon-Greedy 0.07', max=1000.0, style=Pro…"
      ]
     },
     "metadata": {},
     "output_type": "display_data"
    },
    {
     "data": {
      "application/vnd.jupyter.widget-view+json": {
       "model_id": "",
       "version_major": 2,
       "version_minor": 0
      },
      "text/plain": [
       "HBox(children=(FloatProgress(value=0.0, description='Episodes for: Epsilon-Greedy 0.1', max=1000.0, style=Prog…"
      ]
     },
     "metadata": {},
     "output_type": "display_data"
    },
    {
     "data": {
      "application/vnd.jupyter.widget-view+json": {
       "model_id": "",
       "version_major": 2,
       "version_minor": 0
      },
      "text/plain": [
       "HBox(children=(FloatProgress(value=0.0, description='Episodes for: Lin Epsilon-Greedy 1.0, 0.0, 0.1', max=1000…"
      ]
     },
     "metadata": {},
     "output_type": "display_data"
    },
    {
     "data": {
      "application/vnd.jupyter.widget-view+json": {
       "model_id": "",
       "version_major": 2,
       "version_minor": 0
      },
      "text/plain": [
       "HBox(children=(FloatProgress(value=0.0, description='Episodes for: Lin Epsilon-Greedy 0.3, 0.001, 0.1', max=10…"
      ]
     },
     "metadata": {},
     "output_type": "display_data"
    },
    {
     "data": {
      "application/vnd.jupyter.widget-view+json": {
       "model_id": "",
       "version_major": 2,
       "version_minor": 0
      },
      "text/plain": [
       "HBox(children=(FloatProgress(value=0.0, description='Episodes for: Exp Epsilon-Greedy 1.0, 0.0, 0.1', max=1000…"
      ]
     },
     "metadata": {},
     "output_type": "display_data"
    },
    {
     "data": {
      "application/vnd.jupyter.widget-view+json": {
       "model_id": "",
       "version_major": 2,
       "version_minor": 0
      },
      "text/plain": [
       "HBox(children=(FloatProgress(value=0.0, description='Episodes for: Exp Epsilon-Greedy 0.3, 0.0, 0.3', max=1000…"
      ]
     },
     "metadata": {},
     "output_type": "display_data"
    },
    {
     "data": {
      "application/vnd.jupyter.widget-view+json": {
       "model_id": "",
       "version_major": 2,
       "version_minor": 0
      },
      "text/plain": [
       "HBox(children=(FloatProgress(value=0.0, description='Episodes for: Optimistic 1.0, 10', max=1000.0, style=Prog…"
      ]
     },
     "metadata": {},
     "output_type": "display_data"
    },
    {
     "data": {
      "application/vnd.jupyter.widget-view+json": {
       "model_id": "",
       "version_major": 2,
       "version_minor": 0
      },
      "text/plain": [
       "HBox(children=(FloatProgress(value=0.0, description='Episodes for: Optimistic 1.0, 50', max=1000.0, style=Prog…"
      ]
     },
     "metadata": {},
     "output_type": "display_data"
    },
    {
     "data": {
      "application/vnd.jupyter.widget-view+json": {
       "model_id": "",
       "version_major": 2,
       "version_minor": 0
      },
      "text/plain": [
       "HBox(children=(FloatProgress(value=0.0, description='All environments', max=5.0, style=ProgressStyle(descripti…"
      ]
     },
     "metadata": {},
     "output_type": "display_data"
    },
    {
     "data": {
      "application/vnd.jupyter.widget-view+json": {
       "model_id": "",
       "version_major": 2,
       "version_minor": 0
      },
      "text/plain": [
       "HBox(children=(FloatProgress(value=0.0, description='Experiments with seed 12', max=10.0, style=ProgressStyle(…"
      ]
     },
     "metadata": {},
     "output_type": "display_data"
    },
    {
     "data": {
      "application/vnd.jupyter.widget-view+json": {
       "model_id": "",
       "version_major": 2,
       "version_minor": 0
      },
      "text/plain": [
       "HBox(children=(FloatProgress(value=0.0, description='Episodes for: Pure exploitation', max=1000.0, style=Progr…"
      ]
     },
     "metadata": {},
     "output_type": "display_data"
    },
    {
     "data": {
      "application/vnd.jupyter.widget-view+json": {
       "model_id": "",
       "version_major": 2,
       "version_minor": 0
      },
      "text/plain": [
       "HBox(children=(FloatProgress(value=0.0, description='Episodes for: Pure exploration', max=1000.0, style=Progre…"
      ]
     },
     "metadata": {},
     "output_type": "display_data"
    },
    {
     "data": {
      "application/vnd.jupyter.widget-view+json": {
       "model_id": "",
       "version_major": 2,
       "version_minor": 0
      },
      "text/plain": [
       "HBox(children=(FloatProgress(value=0.0, description='Episodes for: Epsilon-Greedy 0.07', max=1000.0, style=Pro…"
      ]
     },
     "metadata": {},
     "output_type": "display_data"
    },
    {
     "data": {
      "application/vnd.jupyter.widget-view+json": {
       "model_id": "",
       "version_major": 2,
       "version_minor": 0
      },
      "text/plain": [
       "HBox(children=(FloatProgress(value=0.0, description='Episodes for: Epsilon-Greedy 0.1', max=1000.0, style=Prog…"
      ]
     },
     "metadata": {},
     "output_type": "display_data"
    },
    {
     "data": {
      "application/vnd.jupyter.widget-view+json": {
       "model_id": "",
       "version_major": 2,
       "version_minor": 0
      },
      "text/plain": [
       "HBox(children=(FloatProgress(value=0.0, description='Episodes for: Lin Epsilon-Greedy 1.0, 0.0, 0.1', max=1000…"
      ]
     },
     "metadata": {},
     "output_type": "display_data"
    },
    {
     "data": {
      "application/vnd.jupyter.widget-view+json": {
       "model_id": "",
       "version_major": 2,
       "version_minor": 0
      },
      "text/plain": [
       "HBox(children=(FloatProgress(value=0.0, description='Episodes for: Lin Epsilon-Greedy 0.3, 0.001, 0.1', max=10…"
      ]
     },
     "metadata": {},
     "output_type": "display_data"
    },
    {
     "data": {
      "application/vnd.jupyter.widget-view+json": {
       "model_id": "",
       "version_major": 2,
       "version_minor": 0
      },
      "text/plain": [
       "HBox(children=(FloatProgress(value=0.0, description='Episodes for: Exp Epsilon-Greedy 1.0, 0.0, 0.1', max=1000…"
      ]
     },
     "metadata": {},
     "output_type": "display_data"
    },
    {
     "data": {
      "application/vnd.jupyter.widget-view+json": {
       "model_id": "",
       "version_major": 2,
       "version_minor": 0
      },
      "text/plain": [
       "HBox(children=(FloatProgress(value=0.0, description='Episodes for: Exp Epsilon-Greedy 0.3, 0.0, 0.3', max=1000…"
      ]
     },
     "metadata": {},
     "output_type": "display_data"
    },
    {
     "data": {
      "application/vnd.jupyter.widget-view+json": {
       "model_id": "",
       "version_major": 2,
       "version_minor": 0
      },
      "text/plain": [
       "HBox(children=(FloatProgress(value=0.0, description='Episodes for: Optimistic 1.0, 10', max=1000.0, style=Prog…"
      ]
     },
     "metadata": {},
     "output_type": "display_data"
    },
    {
     "data": {
      "application/vnd.jupyter.widget-view+json": {
       "model_id": "",
       "version_major": 2,
       "version_minor": 0
      },
      "text/plain": [
       "HBox(children=(FloatProgress(value=0.0, description='Episodes for: Optimistic 1.0, 50', max=1000.0, style=Prog…"
      ]
     },
     "metadata": {},
     "output_type": "display_data"
    },
    {
     "data": {
      "application/vnd.jupyter.widget-view+json": {
       "model_id": "",
       "version_major": 2,
       "version_minor": 0
      },
      "text/plain": [
       "HBox(children=(FloatProgress(value=0.0, description='Experiments with seed 34', max=10.0, style=ProgressStyle(…"
      ]
     },
     "metadata": {},
     "output_type": "display_data"
    },
    {
     "data": {
      "application/vnd.jupyter.widget-view+json": {
       "model_id": "",
       "version_major": 2,
       "version_minor": 0
      },
      "text/plain": [
       "HBox(children=(FloatProgress(value=0.0, description='Episodes for: Pure exploitation', max=1000.0, style=Progr…"
      ]
     },
     "metadata": {},
     "output_type": "display_data"
    },
    {
     "data": {
      "application/vnd.jupyter.widget-view+json": {
       "model_id": "",
       "version_major": 2,
       "version_minor": 0
      },
      "text/plain": [
       "HBox(children=(FloatProgress(value=0.0, description='Episodes for: Pure exploration', max=1000.0, style=Progre…"
      ]
     },
     "metadata": {},
     "output_type": "display_data"
    },
    {
     "data": {
      "application/vnd.jupyter.widget-view+json": {
       "model_id": "",
       "version_major": 2,
       "version_minor": 0
      },
      "text/plain": [
       "HBox(children=(FloatProgress(value=0.0, description='Episodes for: Epsilon-Greedy 0.07', max=1000.0, style=Pro…"
      ]
     },
     "metadata": {},
     "output_type": "display_data"
    },
    {
     "data": {
      "application/vnd.jupyter.widget-view+json": {
       "model_id": "",
       "version_major": 2,
       "version_minor": 0
      },
      "text/plain": [
       "HBox(children=(FloatProgress(value=0.0, description='Episodes for: Epsilon-Greedy 0.1', max=1000.0, style=Prog…"
      ]
     },
     "metadata": {},
     "output_type": "display_data"
    },
    {
     "data": {
      "application/vnd.jupyter.widget-view+json": {
       "model_id": "",
       "version_major": 2,
       "version_minor": 0
      },
      "text/plain": [
       "HBox(children=(FloatProgress(value=0.0, description='Episodes for: Lin Epsilon-Greedy 1.0, 0.0, 0.1', max=1000…"
      ]
     },
     "metadata": {},
     "output_type": "display_data"
    },
    {
     "data": {
      "application/vnd.jupyter.widget-view+json": {
       "model_id": "",
       "version_major": 2,
       "version_minor": 0
      },
      "text/plain": [
       "HBox(children=(FloatProgress(value=0.0, description='Episodes for: Lin Epsilon-Greedy 0.3, 0.001, 0.1', max=10…"
      ]
     },
     "metadata": {},
     "output_type": "display_data"
    },
    {
     "data": {
      "application/vnd.jupyter.widget-view+json": {
       "model_id": "",
       "version_major": 2,
       "version_minor": 0
      },
      "text/plain": [
       "HBox(children=(FloatProgress(value=0.0, description='Episodes for: Exp Epsilon-Greedy 1.0, 0.0, 0.1', max=1000…"
      ]
     },
     "metadata": {},
     "output_type": "display_data"
    },
    {
     "data": {
      "application/vnd.jupyter.widget-view+json": {
       "model_id": "",
       "version_major": 2,
       "version_minor": 0
      },
      "text/plain": [
       "HBox(children=(FloatProgress(value=0.0, description='Episodes for: Exp Epsilon-Greedy 0.3, 0.0, 0.3', max=1000…"
      ]
     },
     "metadata": {},
     "output_type": "display_data"
    },
    {
     "data": {
      "application/vnd.jupyter.widget-view+json": {
       "model_id": "",
       "version_major": 2,
       "version_minor": 0
      },
      "text/plain": [
       "HBox(children=(FloatProgress(value=0.0, description='Episodes for: Optimistic 1.0, 10', max=1000.0, style=Prog…"
      ]
     },
     "metadata": {},
     "output_type": "display_data"
    },
    {
     "data": {
      "application/vnd.jupyter.widget-view+json": {
       "model_id": "",
       "version_major": 2,
       "version_minor": 0
      },
      "text/plain": [
       "HBox(children=(FloatProgress(value=0.0, description='Episodes for: Optimistic 1.0, 50', max=1000.0, style=Prog…"
      ]
     },
     "metadata": {},
     "output_type": "display_data"
    },
    {
     "data": {
      "application/vnd.jupyter.widget-view+json": {
       "model_id": "",
       "version_major": 2,
       "version_minor": 0
      },
      "text/plain": [
       "HBox(children=(FloatProgress(value=0.0, description='Experiments with seed 56', max=10.0, style=ProgressStyle(…"
      ]
     },
     "metadata": {},
     "output_type": "display_data"
    },
    {
     "data": {
      "application/vnd.jupyter.widget-view+json": {
       "model_id": "",
       "version_major": 2,
       "version_minor": 0
      },
      "text/plain": [
       "HBox(children=(FloatProgress(value=0.0, description='Episodes for: Pure exploitation', max=1000.0, style=Progr…"
      ]
     },
     "metadata": {},
     "output_type": "display_data"
    },
    {
     "data": {
      "application/vnd.jupyter.widget-view+json": {
       "model_id": "",
       "version_major": 2,
       "version_minor": 0
      },
      "text/plain": [
       "HBox(children=(FloatProgress(value=0.0, description='Episodes for: Pure exploration', max=1000.0, style=Progre…"
      ]
     },
     "metadata": {},
     "output_type": "display_data"
    },
    {
     "data": {
      "application/vnd.jupyter.widget-view+json": {
       "model_id": "",
       "version_major": 2,
       "version_minor": 0
      },
      "text/plain": [
       "HBox(children=(FloatProgress(value=0.0, description='Episodes for: Epsilon-Greedy 0.07', max=1000.0, style=Pro…"
      ]
     },
     "metadata": {},
     "output_type": "display_data"
    },
    {
     "data": {
      "application/vnd.jupyter.widget-view+json": {
       "model_id": "",
       "version_major": 2,
       "version_minor": 0
      },
      "text/plain": [
       "HBox(children=(FloatProgress(value=0.0, description='Episodes for: Epsilon-Greedy 0.1', max=1000.0, style=Prog…"
      ]
     },
     "metadata": {},
     "output_type": "display_data"
    },
    {
     "data": {
      "application/vnd.jupyter.widget-view+json": {
       "model_id": "",
       "version_major": 2,
       "version_minor": 0
      },
      "text/plain": [
       "HBox(children=(FloatProgress(value=0.0, description='Episodes for: Lin Epsilon-Greedy 1.0, 0.0, 0.1', max=1000…"
      ]
     },
     "metadata": {},
     "output_type": "display_data"
    },
    {
     "data": {
      "application/vnd.jupyter.widget-view+json": {
       "model_id": "",
       "version_major": 2,
       "version_minor": 0
      },
      "text/plain": [
       "HBox(children=(FloatProgress(value=0.0, description='Episodes for: Lin Epsilon-Greedy 0.3, 0.001, 0.1', max=10…"
      ]
     },
     "metadata": {},
     "output_type": "display_data"
    },
    {
     "data": {
      "application/vnd.jupyter.widget-view+json": {
       "model_id": "",
       "version_major": 2,
       "version_minor": 0
      },
      "text/plain": [
       "HBox(children=(FloatProgress(value=0.0, description='Episodes for: Exp Epsilon-Greedy 1.0, 0.0, 0.1', max=1000…"
      ]
     },
     "metadata": {},
     "output_type": "display_data"
    },
    {
     "data": {
      "application/vnd.jupyter.widget-view+json": {
       "model_id": "",
       "version_major": 2,
       "version_minor": 0
      },
      "text/plain": [
       "HBox(children=(FloatProgress(value=0.0, description='Episodes for: Exp Epsilon-Greedy 0.3, 0.0, 0.3', max=1000…"
      ]
     },
     "metadata": {},
     "output_type": "display_data"
    },
    {
     "data": {
      "application/vnd.jupyter.widget-view+json": {
       "model_id": "",
       "version_major": 2,
       "version_minor": 0
      },
      "text/plain": [
       "HBox(children=(FloatProgress(value=0.0, description='Episodes for: Optimistic 1.0, 10', max=1000.0, style=Prog…"
      ]
     },
     "metadata": {},
     "output_type": "display_data"
    },
    {
     "data": {
      "application/vnd.jupyter.widget-view+json": {
       "model_id": "",
       "version_major": 2,
       "version_minor": 0
      },
      "text/plain": [
       "HBox(children=(FloatProgress(value=0.0, description='Episodes for: Optimistic 1.0, 50', max=1000.0, style=Prog…"
      ]
     },
     "metadata": {},
     "output_type": "display_data"
    },
    {
     "data": {
      "application/vnd.jupyter.widget-view+json": {
       "model_id": "",
       "version_major": 2,
       "version_minor": 0
      },
      "text/plain": [
       "HBox(children=(FloatProgress(value=0.0, description='Experiments with seed 78', max=10.0, style=ProgressStyle(…"
      ]
     },
     "metadata": {},
     "output_type": "display_data"
    },
    {
     "data": {
      "application/vnd.jupyter.widget-view+json": {
       "model_id": "",
       "version_major": 2,
       "version_minor": 0
      },
      "text/plain": [
       "HBox(children=(FloatProgress(value=0.0, description='Episodes for: Pure exploitation', max=1000.0, style=Progr…"
      ]
     },
     "metadata": {},
     "output_type": "display_data"
    },
    {
     "data": {
      "application/vnd.jupyter.widget-view+json": {
       "model_id": "",
       "version_major": 2,
       "version_minor": 0
      },
      "text/plain": [
       "HBox(children=(FloatProgress(value=0.0, description='Episodes for: Pure exploration', max=1000.0, style=Progre…"
      ]
     },
     "metadata": {},
     "output_type": "display_data"
    },
    {
     "data": {
      "application/vnd.jupyter.widget-view+json": {
       "model_id": "",
       "version_major": 2,
       "version_minor": 0
      },
      "text/plain": [
       "HBox(children=(FloatProgress(value=0.0, description='Episodes for: Epsilon-Greedy 0.07', max=1000.0, style=Pro…"
      ]
     },
     "metadata": {},
     "output_type": "display_data"
    },
    {
     "data": {
      "application/vnd.jupyter.widget-view+json": {
       "model_id": "",
       "version_major": 2,
       "version_minor": 0
      },
      "text/plain": [
       "HBox(children=(FloatProgress(value=0.0, description='Episodes for: Epsilon-Greedy 0.1', max=1000.0, style=Prog…"
      ]
     },
     "metadata": {},
     "output_type": "display_data"
    },
    {
     "data": {
      "application/vnd.jupyter.widget-view+json": {
       "model_id": "",
       "version_major": 2,
       "version_minor": 0
      },
      "text/plain": [
       "HBox(children=(FloatProgress(value=0.0, description='Episodes for: Lin Epsilon-Greedy 1.0, 0.0, 0.1', max=1000…"
      ]
     },
     "metadata": {},
     "output_type": "display_data"
    },
    {
     "data": {
      "application/vnd.jupyter.widget-view+json": {
       "model_id": "",
       "version_major": 2,
       "version_minor": 0
      },
      "text/plain": [
       "HBox(children=(FloatProgress(value=0.0, description='Episodes for: Lin Epsilon-Greedy 0.3, 0.001, 0.1', max=10…"
      ]
     },
     "metadata": {},
     "output_type": "display_data"
    },
    {
     "data": {
      "application/vnd.jupyter.widget-view+json": {
       "model_id": "",
       "version_major": 2,
       "version_minor": 0
      },
      "text/plain": [
       "HBox(children=(FloatProgress(value=0.0, description='Episodes for: Exp Epsilon-Greedy 1.0, 0.0, 0.1', max=1000…"
      ]
     },
     "metadata": {},
     "output_type": "display_data"
    },
    {
     "data": {
      "application/vnd.jupyter.widget-view+json": {
       "model_id": "",
       "version_major": 2,
       "version_minor": 0
      },
      "text/plain": [
       "HBox(children=(FloatProgress(value=0.0, description='Episodes for: Exp Epsilon-Greedy 0.3, 0.0, 0.3', max=1000…"
      ]
     },
     "metadata": {},
     "output_type": "display_data"
    },
    {
     "data": {
      "application/vnd.jupyter.widget-view+json": {
       "model_id": "",
       "version_major": 2,
       "version_minor": 0
      },
      "text/plain": [
       "HBox(children=(FloatProgress(value=0.0, description='Episodes for: Optimistic 1.0, 10', max=1000.0, style=Prog…"
      ]
     },
     "metadata": {},
     "output_type": "display_data"
    },
    {
     "data": {
      "application/vnd.jupyter.widget-view+json": {
       "model_id": "",
       "version_major": 2,
       "version_minor": 0
      },
      "text/plain": [
       "HBox(children=(FloatProgress(value=0.0, description='Episodes for: Optimistic 1.0, 50', max=1000.0, style=Prog…"
      ]
     },
     "metadata": {},
     "output_type": "display_data"
    },
    {
     "data": {
      "application/vnd.jupyter.widget-view+json": {
       "model_id": "",
       "version_major": 2,
       "version_minor": 0
      },
      "text/plain": [
       "HBox(children=(FloatProgress(value=0.0, description='Experiments with seed 90', max=10.0, style=ProgressStyle(…"
      ]
     },
     "metadata": {},
     "output_type": "display_data"
    },
    {
     "data": {
      "application/vnd.jupyter.widget-view+json": {
       "model_id": "",
       "version_major": 2,
       "version_minor": 0
      },
      "text/plain": [
       "HBox(children=(FloatProgress(value=0.0, description='Episodes for: Pure exploitation', max=1000.0, style=Progr…"
      ]
     },
     "metadata": {},
     "output_type": "display_data"
    },
    {
     "data": {
      "application/vnd.jupyter.widget-view+json": {
       "model_id": "",
       "version_major": 2,
       "version_minor": 0
      },
      "text/plain": [
       "HBox(children=(FloatProgress(value=0.0, description='Episodes for: Pure exploration', max=1000.0, style=Progre…"
      ]
     },
     "metadata": {},
     "output_type": "display_data"
    },
    {
     "data": {
      "application/vnd.jupyter.widget-view+json": {
       "model_id": "",
       "version_major": 2,
       "version_minor": 0
      },
      "text/plain": [
       "HBox(children=(FloatProgress(value=0.0, description='Episodes for: Epsilon-Greedy 0.07', max=1000.0, style=Pro…"
      ]
     },
     "metadata": {},
     "output_type": "display_data"
    },
    {
     "data": {
      "application/vnd.jupyter.widget-view+json": {
       "model_id": "",
       "version_major": 2,
       "version_minor": 0
      },
      "text/plain": [
       "HBox(children=(FloatProgress(value=0.0, description='Episodes for: Epsilon-Greedy 0.1', max=1000.0, style=Prog…"
      ]
     },
     "metadata": {},
     "output_type": "display_data"
    },
    {
     "data": {
      "application/vnd.jupyter.widget-view+json": {
       "model_id": "",
       "version_major": 2,
       "version_minor": 0
      },
      "text/plain": [
       "HBox(children=(FloatProgress(value=0.0, description='Episodes for: Lin Epsilon-Greedy 1.0, 0.0, 0.1', max=1000…"
      ]
     },
     "metadata": {},
     "output_type": "display_data"
    },
    {
     "data": {
      "application/vnd.jupyter.widget-view+json": {
       "model_id": "",
       "version_major": 2,
       "version_minor": 0
      },
      "text/plain": [
       "HBox(children=(FloatProgress(value=0.0, description='Episodes for: Lin Epsilon-Greedy 0.3, 0.001, 0.1', max=10…"
      ]
     },
     "metadata": {},
     "output_type": "display_data"
    },
    {
     "data": {
      "application/vnd.jupyter.widget-view+json": {
       "model_id": "",
       "version_major": 2,
       "version_minor": 0
      },
      "text/plain": [
       "HBox(children=(FloatProgress(value=0.0, description='Episodes for: Exp Epsilon-Greedy 1.0, 0.0, 0.1', max=1000…"
      ]
     },
     "metadata": {},
     "output_type": "display_data"
    },
    {
     "data": {
      "application/vnd.jupyter.widget-view+json": {
       "model_id": "",
       "version_major": 2,
       "version_minor": 0
      },
      "text/plain": [
       "HBox(children=(FloatProgress(value=0.0, description='Episodes for: Exp Epsilon-Greedy 0.3, 0.0, 0.3', max=1000…"
      ]
     },
     "metadata": {},
     "output_type": "display_data"
    },
    {
     "data": {
      "application/vnd.jupyter.widget-view+json": {
       "model_id": "",
       "version_major": 2,
       "version_minor": 0
      },
      "text/plain": [
       "HBox(children=(FloatProgress(value=0.0, description='Episodes for: Optimistic 1.0, 10', max=1000.0, style=Prog…"
      ]
     },
     "metadata": {},
     "output_type": "display_data"
    },
    {
     "data": {
      "application/vnd.jupyter.widget-view+json": {
       "model_id": "",
       "version_major": 2,
       "version_minor": 0
      },
      "text/plain": [
       "HBox(children=(FloatProgress(value=0.0, description='Episodes for: Optimistic 1.0, 50', max=1000.0, style=Prog…"
      ]
     },
     "metadata": {},
     "output_type": "display_data"
    },
    {
     "data": {
      "application/vnd.jupyter.widget-view+json": {
       "model_id": "",
       "version_major": 2,
       "version_minor": 0
      },
      "text/plain": [
       "HBox(children=(FloatProgress(value=0.0, description='All environments', max=5.0, style=ProgressStyle(descripti…"
      ]
     },
     "metadata": {},
     "output_type": "display_data"
    },
    {
     "data": {
      "application/vnd.jupyter.widget-view+json": {
       "model_id": "",
       "version_major": 2,
       "version_minor": 0
      },
      "text/plain": [
       "HBox(children=(FloatProgress(value=0.0, description='Experiments with seed 12', max=10.0, style=ProgressStyle(…"
      ]
     },
     "metadata": {},
     "output_type": "display_data"
    },
    {
     "data": {
      "application/vnd.jupyter.widget-view+json": {
       "model_id": "",
       "version_major": 2,
       "version_minor": 0
      },
      "text/plain": [
       "HBox(children=(FloatProgress(value=0.0, description='Episodes for: Pure exploitation', max=1000.0, style=Progr…"
      ]
     },
     "metadata": {},
     "output_type": "display_data"
    },
    {
     "data": {
      "application/vnd.jupyter.widget-view+json": {
       "model_id": "",
       "version_major": 2,
       "version_minor": 0
      },
      "text/plain": [
       "HBox(children=(FloatProgress(value=0.0, description='Episodes for: Pure exploration', max=1000.0, style=Progre…"
      ]
     },
     "metadata": {},
     "output_type": "display_data"
    },
    {
     "data": {
      "application/vnd.jupyter.widget-view+json": {
       "model_id": "",
       "version_major": 2,
       "version_minor": 0
      },
      "text/plain": [
       "HBox(children=(FloatProgress(value=0.0, description='Episodes for: Epsilon-Greedy 0.07', max=1000.0, style=Pro…"
      ]
     },
     "metadata": {},
     "output_type": "display_data"
    },
    {
     "data": {
      "application/vnd.jupyter.widget-view+json": {
       "model_id": "",
       "version_major": 2,
       "version_minor": 0
      },
      "text/plain": [
       "HBox(children=(FloatProgress(value=0.0, description='Episodes for: Epsilon-Greedy 0.1', max=1000.0, style=Prog…"
      ]
     },
     "metadata": {},
     "output_type": "display_data"
    },
    {
     "data": {
      "application/vnd.jupyter.widget-view+json": {
       "model_id": "",
       "version_major": 2,
       "version_minor": 0
      },
      "text/plain": [
       "HBox(children=(FloatProgress(value=0.0, description='Episodes for: Lin Epsilon-Greedy 1.0, 0.0, 0.1', max=1000…"
      ]
     },
     "metadata": {},
     "output_type": "display_data"
    },
    {
     "data": {
      "application/vnd.jupyter.widget-view+json": {
       "model_id": "",
       "version_major": 2,
       "version_minor": 0
      },
      "text/plain": [
       "HBox(children=(FloatProgress(value=0.0, description='Episodes for: Lin Epsilon-Greedy 0.3, 0.001, 0.1', max=10…"
      ]
     },
     "metadata": {},
     "output_type": "display_data"
    },
    {
     "data": {
      "application/vnd.jupyter.widget-view+json": {
       "model_id": "",
       "version_major": 2,
       "version_minor": 0
      },
      "text/plain": [
       "HBox(children=(FloatProgress(value=0.0, description='Episodes for: Exp Epsilon-Greedy 1.0, 0.0, 0.1', max=1000…"
      ]
     },
     "metadata": {},
     "output_type": "display_data"
    },
    {
     "data": {
      "application/vnd.jupyter.widget-view+json": {
       "model_id": "",
       "version_major": 2,
       "version_minor": 0
      },
      "text/plain": [
       "HBox(children=(FloatProgress(value=0.0, description='Episodes for: Exp Epsilon-Greedy 0.3, 0.0, 0.3', max=1000…"
      ]
     },
     "metadata": {},
     "output_type": "display_data"
    },
    {
     "data": {
      "application/vnd.jupyter.widget-view+json": {
       "model_id": "",
       "version_major": 2,
       "version_minor": 0
      },
      "text/plain": [
       "HBox(children=(FloatProgress(value=0.0, description='Episodes for: Optimistic 1.0, 10', max=1000.0, style=Prog…"
      ]
     },
     "metadata": {},
     "output_type": "display_data"
    },
    {
     "data": {
      "application/vnd.jupyter.widget-view+json": {
       "model_id": "",
       "version_major": 2,
       "version_minor": 0
      },
      "text/plain": [
       "HBox(children=(FloatProgress(value=0.0, description='Episodes for: Optimistic 1.0, 50', max=1000.0, style=Prog…"
      ]
     },
     "metadata": {},
     "output_type": "display_data"
    },
    {
     "data": {
      "application/vnd.jupyter.widget-view+json": {
       "model_id": "",
       "version_major": 2,
       "version_minor": 0
      },
      "text/plain": [
       "HBox(children=(FloatProgress(value=0.0, description='Experiments with seed 34', max=10.0, style=ProgressStyle(…"
      ]
     },
     "metadata": {},
     "output_type": "display_data"
    },
    {
     "data": {
      "application/vnd.jupyter.widget-view+json": {
       "model_id": "",
       "version_major": 2,
       "version_minor": 0
      },
      "text/plain": [
       "HBox(children=(FloatProgress(value=0.0, description='Episodes for: Pure exploitation', max=1000.0, style=Progr…"
      ]
     },
     "metadata": {},
     "output_type": "display_data"
    },
    {
     "data": {
      "application/vnd.jupyter.widget-view+json": {
       "model_id": "",
       "version_major": 2,
       "version_minor": 0
      },
      "text/plain": [
       "HBox(children=(FloatProgress(value=0.0, description='Episodes for: Pure exploration', max=1000.0, style=Progre…"
      ]
     },
     "metadata": {},
     "output_type": "display_data"
    },
    {
     "data": {
      "application/vnd.jupyter.widget-view+json": {
       "model_id": "",
       "version_major": 2,
       "version_minor": 0
      },
      "text/plain": [
       "HBox(children=(FloatProgress(value=0.0, description='Episodes for: Epsilon-Greedy 0.07', max=1000.0, style=Pro…"
      ]
     },
     "metadata": {},
     "output_type": "display_data"
    },
    {
     "data": {
      "application/vnd.jupyter.widget-view+json": {
       "model_id": "",
       "version_major": 2,
       "version_minor": 0
      },
      "text/plain": [
       "HBox(children=(FloatProgress(value=0.0, description='Episodes for: Epsilon-Greedy 0.1', max=1000.0, style=Prog…"
      ]
     },
     "metadata": {},
     "output_type": "display_data"
    },
    {
     "data": {
      "application/vnd.jupyter.widget-view+json": {
       "model_id": "",
       "version_major": 2,
       "version_minor": 0
      },
      "text/plain": [
       "HBox(children=(FloatProgress(value=0.0, description='Episodes for: Lin Epsilon-Greedy 1.0, 0.0, 0.1', max=1000…"
      ]
     },
     "metadata": {},
     "output_type": "display_data"
    },
    {
     "data": {
      "application/vnd.jupyter.widget-view+json": {
       "model_id": "",
       "version_major": 2,
       "version_minor": 0
      },
      "text/plain": [
       "HBox(children=(FloatProgress(value=0.0, description='Episodes for: Lin Epsilon-Greedy 0.3, 0.001, 0.1', max=10…"
      ]
     },
     "metadata": {},
     "output_type": "display_data"
    },
    {
     "data": {
      "application/vnd.jupyter.widget-view+json": {
       "model_id": "",
       "version_major": 2,
       "version_minor": 0
      },
      "text/plain": [
       "HBox(children=(FloatProgress(value=0.0, description='Episodes for: Exp Epsilon-Greedy 1.0, 0.0, 0.1', max=1000…"
      ]
     },
     "metadata": {},
     "output_type": "display_data"
    },
    {
     "data": {
      "application/vnd.jupyter.widget-view+json": {
       "model_id": "",
       "version_major": 2,
       "version_minor": 0
      },
      "text/plain": [
       "HBox(children=(FloatProgress(value=0.0, description='Episodes for: Exp Epsilon-Greedy 0.3, 0.0, 0.3', max=1000…"
      ]
     },
     "metadata": {},
     "output_type": "display_data"
    },
    {
     "data": {
      "application/vnd.jupyter.widget-view+json": {
       "model_id": "",
       "version_major": 2,
       "version_minor": 0
      },
      "text/plain": [
       "HBox(children=(FloatProgress(value=0.0, description='Episodes for: Optimistic 1.0, 10', max=1000.0, style=Prog…"
      ]
     },
     "metadata": {},
     "output_type": "display_data"
    },
    {
     "data": {
      "application/vnd.jupyter.widget-view+json": {
       "model_id": "",
       "version_major": 2,
       "version_minor": 0
      },
      "text/plain": [
       "HBox(children=(FloatProgress(value=0.0, description='Episodes for: Optimistic 1.0, 50', max=1000.0, style=Prog…"
      ]
     },
     "metadata": {},
     "output_type": "display_data"
    },
    {
     "data": {
      "application/vnd.jupyter.widget-view+json": {
       "model_id": "",
       "version_major": 2,
       "version_minor": 0
      },
      "text/plain": [
       "HBox(children=(FloatProgress(value=0.0, description='Experiments with seed 56', max=10.0, style=ProgressStyle(…"
      ]
     },
     "metadata": {},
     "output_type": "display_data"
    },
    {
     "data": {
      "application/vnd.jupyter.widget-view+json": {
       "model_id": "",
       "version_major": 2,
       "version_minor": 0
      },
      "text/plain": [
       "HBox(children=(FloatProgress(value=0.0, description='Episodes for: Pure exploitation', max=1000.0, style=Progr…"
      ]
     },
     "metadata": {},
     "output_type": "display_data"
    },
    {
     "data": {
      "application/vnd.jupyter.widget-view+json": {
       "model_id": "",
       "version_major": 2,
       "version_minor": 0
      },
      "text/plain": [
       "HBox(children=(FloatProgress(value=0.0, description='Episodes for: Pure exploration', max=1000.0, style=Progre…"
      ]
     },
     "metadata": {},
     "output_type": "display_data"
    },
    {
     "data": {
      "application/vnd.jupyter.widget-view+json": {
       "model_id": "",
       "version_major": 2,
       "version_minor": 0
      },
      "text/plain": [
       "HBox(children=(FloatProgress(value=0.0, description='Episodes for: Epsilon-Greedy 0.07', max=1000.0, style=Pro…"
      ]
     },
     "metadata": {},
     "output_type": "display_data"
    },
    {
     "data": {
      "application/vnd.jupyter.widget-view+json": {
       "model_id": "",
       "version_major": 2,
       "version_minor": 0
      },
      "text/plain": [
       "HBox(children=(FloatProgress(value=0.0, description='Episodes for: Epsilon-Greedy 0.1', max=1000.0, style=Prog…"
      ]
     },
     "metadata": {},
     "output_type": "display_data"
    },
    {
     "data": {
      "application/vnd.jupyter.widget-view+json": {
       "model_id": "",
       "version_major": 2,
       "version_minor": 0
      },
      "text/plain": [
       "HBox(children=(FloatProgress(value=0.0, description='Episodes for: Lin Epsilon-Greedy 1.0, 0.0, 0.1', max=1000…"
      ]
     },
     "metadata": {},
     "output_type": "display_data"
    },
    {
     "data": {
      "application/vnd.jupyter.widget-view+json": {
       "model_id": "",
       "version_major": 2,
       "version_minor": 0
      },
      "text/plain": [
       "HBox(children=(FloatProgress(value=0.0, description='Episodes for: Lin Epsilon-Greedy 0.3, 0.001, 0.1', max=10…"
      ]
     },
     "metadata": {},
     "output_type": "display_data"
    },
    {
     "data": {
      "application/vnd.jupyter.widget-view+json": {
       "model_id": "",
       "version_major": 2,
       "version_minor": 0
      },
      "text/plain": [
       "HBox(children=(FloatProgress(value=0.0, description='Episodes for: Exp Epsilon-Greedy 1.0, 0.0, 0.1', max=1000…"
      ]
     },
     "metadata": {},
     "output_type": "display_data"
    },
    {
     "data": {
      "application/vnd.jupyter.widget-view+json": {
       "model_id": "",
       "version_major": 2,
       "version_minor": 0
      },
      "text/plain": [
       "HBox(children=(FloatProgress(value=0.0, description='Episodes for: Exp Epsilon-Greedy 0.3, 0.0, 0.3', max=1000…"
      ]
     },
     "metadata": {},
     "output_type": "display_data"
    },
    {
     "data": {
      "application/vnd.jupyter.widget-view+json": {
       "model_id": "",
       "version_major": 2,
       "version_minor": 0
      },
      "text/plain": [
       "HBox(children=(FloatProgress(value=0.0, description='Episodes for: Optimistic 1.0, 10', max=1000.0, style=Prog…"
      ]
     },
     "metadata": {},
     "output_type": "display_data"
    },
    {
     "data": {
      "application/vnd.jupyter.widget-view+json": {
       "model_id": "",
       "version_major": 2,
       "version_minor": 0
      },
      "text/plain": [
       "HBox(children=(FloatProgress(value=0.0, description='Episodes for: Optimistic 1.0, 50', max=1000.0, style=Prog…"
      ]
     },
     "metadata": {},
     "output_type": "display_data"
    },
    {
     "data": {
      "application/vnd.jupyter.widget-view+json": {
       "model_id": "",
       "version_major": 2,
       "version_minor": 0
      },
      "text/plain": [
       "HBox(children=(FloatProgress(value=0.0, description='Experiments with seed 78', max=10.0, style=ProgressStyle(…"
      ]
     },
     "metadata": {},
     "output_type": "display_data"
    },
    {
     "data": {
      "application/vnd.jupyter.widget-view+json": {
       "model_id": "",
       "version_major": 2,
       "version_minor": 0
      },
      "text/plain": [
       "HBox(children=(FloatProgress(value=0.0, description='Episodes for: Pure exploitation', max=1000.0, style=Progr…"
      ]
     },
     "metadata": {},
     "output_type": "display_data"
    },
    {
     "data": {
      "application/vnd.jupyter.widget-view+json": {
       "model_id": "",
       "version_major": 2,
       "version_minor": 0
      },
      "text/plain": [
       "HBox(children=(FloatProgress(value=0.0, description='Episodes for: Pure exploration', max=1000.0, style=Progre…"
      ]
     },
     "metadata": {},
     "output_type": "display_data"
    },
    {
     "data": {
      "application/vnd.jupyter.widget-view+json": {
       "model_id": "",
       "version_major": 2,
       "version_minor": 0
      },
      "text/plain": [
       "HBox(children=(FloatProgress(value=0.0, description='Episodes for: Epsilon-Greedy 0.07', max=1000.0, style=Pro…"
      ]
     },
     "metadata": {},
     "output_type": "display_data"
    },
    {
     "data": {
      "application/vnd.jupyter.widget-view+json": {
       "model_id": "",
       "version_major": 2,
       "version_minor": 0
      },
      "text/plain": [
       "HBox(children=(FloatProgress(value=0.0, description='Episodes for: Epsilon-Greedy 0.1', max=1000.0, style=Prog…"
      ]
     },
     "metadata": {},
     "output_type": "display_data"
    },
    {
     "data": {
      "application/vnd.jupyter.widget-view+json": {
       "model_id": "",
       "version_major": 2,
       "version_minor": 0
      },
      "text/plain": [
       "HBox(children=(FloatProgress(value=0.0, description='Episodes for: Lin Epsilon-Greedy 1.0, 0.0, 0.1', max=1000…"
      ]
     },
     "metadata": {},
     "output_type": "display_data"
    },
    {
     "data": {
      "application/vnd.jupyter.widget-view+json": {
       "model_id": "",
       "version_major": 2,
       "version_minor": 0
      },
      "text/plain": [
       "HBox(children=(FloatProgress(value=0.0, description='Episodes for: Lin Epsilon-Greedy 0.3, 0.001, 0.1', max=10…"
      ]
     },
     "metadata": {},
     "output_type": "display_data"
    },
    {
     "data": {
      "application/vnd.jupyter.widget-view+json": {
       "model_id": "",
       "version_major": 2,
       "version_minor": 0
      },
      "text/plain": [
       "HBox(children=(FloatProgress(value=0.0, description='Episodes for: Exp Epsilon-Greedy 1.0, 0.0, 0.1', max=1000…"
      ]
     },
     "metadata": {},
     "output_type": "display_data"
    },
    {
     "data": {
      "application/vnd.jupyter.widget-view+json": {
       "model_id": "",
       "version_major": 2,
       "version_minor": 0
      },
      "text/plain": [
       "HBox(children=(FloatProgress(value=0.0, description='Episodes for: Exp Epsilon-Greedy 0.3, 0.0, 0.3', max=1000…"
      ]
     },
     "metadata": {},
     "output_type": "display_data"
    },
    {
     "data": {
      "application/vnd.jupyter.widget-view+json": {
       "model_id": "",
       "version_major": 2,
       "version_minor": 0
      },
      "text/plain": [
       "HBox(children=(FloatProgress(value=0.0, description='Episodes for: Optimistic 1.0, 10', max=1000.0, style=Prog…"
      ]
     },
     "metadata": {},
     "output_type": "display_data"
    },
    {
     "data": {
      "application/vnd.jupyter.widget-view+json": {
       "model_id": "",
       "version_major": 2,
       "version_minor": 0
      },
      "text/plain": [
       "HBox(children=(FloatProgress(value=0.0, description='Episodes for: Optimistic 1.0, 50', max=1000.0, style=Prog…"
      ]
     },
     "metadata": {},
     "output_type": "display_data"
    },
    {
     "data": {
      "application/vnd.jupyter.widget-view+json": {
       "model_id": "",
       "version_major": 2,
       "version_minor": 0
      },
      "text/plain": [
       "HBox(children=(FloatProgress(value=0.0, description='Experiments with seed 90', max=10.0, style=ProgressStyle(…"
      ]
     },
     "metadata": {},
     "output_type": "display_data"
    },
    {
     "data": {
      "application/vnd.jupyter.widget-view+json": {
       "model_id": "",
       "version_major": 2,
       "version_minor": 0
      },
      "text/plain": [
       "HBox(children=(FloatProgress(value=0.0, description='Episodes for: Pure exploitation', max=1000.0, style=Progr…"
      ]
     },
     "metadata": {},
     "output_type": "display_data"
    },
    {
     "data": {
      "application/vnd.jupyter.widget-view+json": {
       "model_id": "",
       "version_major": 2,
       "version_minor": 0
      },
      "text/plain": [
       "HBox(children=(FloatProgress(value=0.0, description='Episodes for: Pure exploration', max=1000.0, style=Progre…"
      ]
     },
     "metadata": {},
     "output_type": "display_data"
    },
    {
     "data": {
      "application/vnd.jupyter.widget-view+json": {
       "model_id": "",
       "version_major": 2,
       "version_minor": 0
      },
      "text/plain": [
       "HBox(children=(FloatProgress(value=0.0, description='Episodes for: Epsilon-Greedy 0.07', max=1000.0, style=Pro…"
      ]
     },
     "metadata": {},
     "output_type": "display_data"
    },
    {
     "data": {
      "application/vnd.jupyter.widget-view+json": {
       "model_id": "",
       "version_major": 2,
       "version_minor": 0
      },
      "text/plain": [
       "HBox(children=(FloatProgress(value=0.0, description='Episodes for: Epsilon-Greedy 0.1', max=1000.0, style=Prog…"
      ]
     },
     "metadata": {},
     "output_type": "display_data"
    },
    {
     "data": {
      "application/vnd.jupyter.widget-view+json": {
       "model_id": "",
       "version_major": 2,
       "version_minor": 0
      },
      "text/plain": [
       "HBox(children=(FloatProgress(value=0.0, description='Episodes for: Lin Epsilon-Greedy 1.0, 0.0, 0.1', max=1000…"
      ]
     },
     "metadata": {},
     "output_type": "display_data"
    },
    {
     "data": {
      "application/vnd.jupyter.widget-view+json": {
       "model_id": "",
       "version_major": 2,
       "version_minor": 0
      },
      "text/plain": [
       "HBox(children=(FloatProgress(value=0.0, description='Episodes for: Lin Epsilon-Greedy 0.3, 0.001, 0.1', max=10…"
      ]
     },
     "metadata": {},
     "output_type": "display_data"
    },
    {
     "data": {
      "application/vnd.jupyter.widget-view+json": {
       "model_id": "",
       "version_major": 2,
       "version_minor": 0
      },
      "text/plain": [
       "HBox(children=(FloatProgress(value=0.0, description='Episodes for: Exp Epsilon-Greedy 1.0, 0.0, 0.1', max=1000…"
      ]
     },
     "metadata": {},
     "output_type": "display_data"
    },
    {
     "data": {
      "application/vnd.jupyter.widget-view+json": {
       "model_id": "",
       "version_major": 2,
       "version_minor": 0
      },
      "text/plain": [
       "HBox(children=(FloatProgress(value=0.0, description='Episodes for: Exp Epsilon-Greedy 0.3, 0.0, 0.3', max=1000…"
      ]
     },
     "metadata": {},
     "output_type": "display_data"
    },
    {
     "data": {
      "application/vnd.jupyter.widget-view+json": {
       "model_id": "",
       "version_major": 2,
       "version_minor": 0
      },
      "text/plain": [
       "HBox(children=(FloatProgress(value=0.0, description='Episodes for: Optimistic 1.0, 10', max=1000.0, style=Prog…"
      ]
     },
     "metadata": {},
     "output_type": "display_data"
    },
    {
     "data": {
      "application/vnd.jupyter.widget-view+json": {
       "model_id": "",
       "version_major": 2,
       "version_minor": 0
      },
      "text/plain": [
       "HBox(children=(FloatProgress(value=0.0, description='Episodes for: Optimistic 1.0, 50', max=1000.0, style=Prog…"
      ]
     },
     "metadata": {},
     "output_type": "display_data"
    },
    {
     "data": {
      "application/vnd.jupyter.widget-view+json": {
       "model_id": "",
       "version_major": 2,
       "version_minor": 0
      },
      "text/plain": [
       "HBox(children=(FloatProgress(value=0.0, description='All environments', max=5.0, style=ProgressStyle(descripti…"
      ]
     },
     "metadata": {},
     "output_type": "display_data"
    },
    {
     "data": {
      "application/vnd.jupyter.widget-view+json": {
       "model_id": "",
       "version_major": 2,
       "version_minor": 0
      },
      "text/plain": [
       "HBox(children=(FloatProgress(value=0.0, description='Experiments with seed 12', max=10.0, style=ProgressStyle(…"
      ]
     },
     "metadata": {},
     "output_type": "display_data"
    },
    {
     "data": {
      "application/vnd.jupyter.widget-view+json": {
       "model_id": "",
       "version_major": 2,
       "version_minor": 0
      },
      "text/plain": [
       "HBox(children=(FloatProgress(value=0.0, description='Episodes for: Pure exploitation', max=1000.0, style=Progr…"
      ]
     },
     "metadata": {},
     "output_type": "display_data"
    },
    {
     "data": {
      "application/vnd.jupyter.widget-view+json": {
       "model_id": "",
       "version_major": 2,
       "version_minor": 0
      },
      "text/plain": [
       "HBox(children=(FloatProgress(value=0.0, description='Episodes for: Pure exploration', max=1000.0, style=Progre…"
      ]
     },
     "metadata": {},
     "output_type": "display_data"
    },
    {
     "data": {
      "application/vnd.jupyter.widget-view+json": {
       "model_id": "",
       "version_major": 2,
       "version_minor": 0
      },
      "text/plain": [
       "HBox(children=(FloatProgress(value=0.0, description='Episodes for: Epsilon-Greedy 0.07', max=1000.0, style=Pro…"
      ]
     },
     "metadata": {},
     "output_type": "display_data"
    },
    {
     "data": {
      "application/vnd.jupyter.widget-view+json": {
       "model_id": "",
       "version_major": 2,
       "version_minor": 0
      },
      "text/plain": [
       "HBox(children=(FloatProgress(value=0.0, description='Episodes for: Epsilon-Greedy 0.1', max=1000.0, style=Prog…"
      ]
     },
     "metadata": {},
     "output_type": "display_data"
    },
    {
     "data": {
      "application/vnd.jupyter.widget-view+json": {
       "model_id": "",
       "version_major": 2,
       "version_minor": 0
      },
      "text/plain": [
       "HBox(children=(FloatProgress(value=0.0, description='Episodes for: Lin Epsilon-Greedy 1.0, 0.0, 0.1', max=1000…"
      ]
     },
     "metadata": {},
     "output_type": "display_data"
    },
    {
     "data": {
      "application/vnd.jupyter.widget-view+json": {
       "model_id": "",
       "version_major": 2,
       "version_minor": 0
      },
      "text/plain": [
       "HBox(children=(FloatProgress(value=0.0, description='Episodes for: Lin Epsilon-Greedy 0.3, 0.001, 0.1', max=10…"
      ]
     },
     "metadata": {},
     "output_type": "display_data"
    },
    {
     "data": {
      "application/vnd.jupyter.widget-view+json": {
       "model_id": "",
       "version_major": 2,
       "version_minor": 0
      },
      "text/plain": [
       "HBox(children=(FloatProgress(value=0.0, description='Episodes for: Exp Epsilon-Greedy 1.0, 0.0, 0.1', max=1000…"
      ]
     },
     "metadata": {},
     "output_type": "display_data"
    },
    {
     "data": {
      "application/vnd.jupyter.widget-view+json": {
       "model_id": "",
       "version_major": 2,
       "version_minor": 0
      },
      "text/plain": [
       "HBox(children=(FloatProgress(value=0.0, description='Episodes for: Exp Epsilon-Greedy 0.3, 0.0, 0.3', max=1000…"
      ]
     },
     "metadata": {},
     "output_type": "display_data"
    },
    {
     "data": {
      "application/vnd.jupyter.widget-view+json": {
       "model_id": "",
       "version_major": 2,
       "version_minor": 0
      },
      "text/plain": [
       "HBox(children=(FloatProgress(value=0.0, description='Episodes for: Optimistic 1.0, 10', max=1000.0, style=Prog…"
      ]
     },
     "metadata": {},
     "output_type": "display_data"
    },
    {
     "data": {
      "application/vnd.jupyter.widget-view+json": {
       "model_id": "",
       "version_major": 2,
       "version_minor": 0
      },
      "text/plain": [
       "HBox(children=(FloatProgress(value=0.0, description='Episodes for: Optimistic 1.0, 50', max=1000.0, style=Prog…"
      ]
     },
     "metadata": {},
     "output_type": "display_data"
    },
    {
     "data": {
      "application/vnd.jupyter.widget-view+json": {
       "model_id": "",
       "version_major": 2,
       "version_minor": 0
      },
      "text/plain": [
       "HBox(children=(FloatProgress(value=0.0, description='Experiments with seed 34', max=10.0, style=ProgressStyle(…"
      ]
     },
     "metadata": {},
     "output_type": "display_data"
    },
    {
     "data": {
      "application/vnd.jupyter.widget-view+json": {
       "model_id": "",
       "version_major": 2,
       "version_minor": 0
      },
      "text/plain": [
       "HBox(children=(FloatProgress(value=0.0, description='Episodes for: Pure exploitation', max=1000.0, style=Progr…"
      ]
     },
     "metadata": {},
     "output_type": "display_data"
    },
    {
     "data": {
      "application/vnd.jupyter.widget-view+json": {
       "model_id": "",
       "version_major": 2,
       "version_minor": 0
      },
      "text/plain": [
       "HBox(children=(FloatProgress(value=0.0, description='Episodes for: Pure exploration', max=1000.0, style=Progre…"
      ]
     },
     "metadata": {},
     "output_type": "display_data"
    },
    {
     "data": {
      "application/vnd.jupyter.widget-view+json": {
       "model_id": "",
       "version_major": 2,
       "version_minor": 0
      },
      "text/plain": [
       "HBox(children=(FloatProgress(value=0.0, description='Episodes for: Epsilon-Greedy 0.07', max=1000.0, style=Pro…"
      ]
     },
     "metadata": {},
     "output_type": "display_data"
    },
    {
     "data": {
      "application/vnd.jupyter.widget-view+json": {
       "model_id": "",
       "version_major": 2,
       "version_minor": 0
      },
      "text/plain": [
       "HBox(children=(FloatProgress(value=0.0, description='Episodes for: Epsilon-Greedy 0.1', max=1000.0, style=Prog…"
      ]
     },
     "metadata": {},
     "output_type": "display_data"
    },
    {
     "data": {
      "application/vnd.jupyter.widget-view+json": {
       "model_id": "",
       "version_major": 2,
       "version_minor": 0
      },
      "text/plain": [
       "HBox(children=(FloatProgress(value=0.0, description='Episodes for: Lin Epsilon-Greedy 1.0, 0.0, 0.1', max=1000…"
      ]
     },
     "metadata": {},
     "output_type": "display_data"
    },
    {
     "data": {
      "application/vnd.jupyter.widget-view+json": {
       "model_id": "",
       "version_major": 2,
       "version_minor": 0
      },
      "text/plain": [
       "HBox(children=(FloatProgress(value=0.0, description='Episodes for: Lin Epsilon-Greedy 0.3, 0.001, 0.1', max=10…"
      ]
     },
     "metadata": {},
     "output_type": "display_data"
    },
    {
     "data": {
      "application/vnd.jupyter.widget-view+json": {
       "model_id": "",
       "version_major": 2,
       "version_minor": 0
      },
      "text/plain": [
       "HBox(children=(FloatProgress(value=0.0, description='Episodes for: Exp Epsilon-Greedy 1.0, 0.0, 0.1', max=1000…"
      ]
     },
     "metadata": {},
     "output_type": "display_data"
    },
    {
     "data": {
      "application/vnd.jupyter.widget-view+json": {
       "model_id": "",
       "version_major": 2,
       "version_minor": 0
      },
      "text/plain": [
       "HBox(children=(FloatProgress(value=0.0, description='Episodes for: Exp Epsilon-Greedy 0.3, 0.0, 0.3', max=1000…"
      ]
     },
     "metadata": {},
     "output_type": "display_data"
    },
    {
     "data": {
      "application/vnd.jupyter.widget-view+json": {
       "model_id": "",
       "version_major": 2,
       "version_minor": 0
      },
      "text/plain": [
       "HBox(children=(FloatProgress(value=0.0, description='Episodes for: Optimistic 1.0, 10', max=1000.0, style=Prog…"
      ]
     },
     "metadata": {},
     "output_type": "display_data"
    },
    {
     "data": {
      "application/vnd.jupyter.widget-view+json": {
       "model_id": "",
       "version_major": 2,
       "version_minor": 0
      },
      "text/plain": [
       "HBox(children=(FloatProgress(value=0.0, description='Episodes for: Optimistic 1.0, 50', max=1000.0, style=Prog…"
      ]
     },
     "metadata": {},
     "output_type": "display_data"
    },
    {
     "data": {
      "application/vnd.jupyter.widget-view+json": {
       "model_id": "",
       "version_major": 2,
       "version_minor": 0
      },
      "text/plain": [
       "HBox(children=(FloatProgress(value=0.0, description='Experiments with seed 56', max=10.0, style=ProgressStyle(…"
      ]
     },
     "metadata": {},
     "output_type": "display_data"
    },
    {
     "data": {
      "application/vnd.jupyter.widget-view+json": {
       "model_id": "",
       "version_major": 2,
       "version_minor": 0
      },
      "text/plain": [
       "HBox(children=(FloatProgress(value=0.0, description='Episodes for: Pure exploitation', max=1000.0, style=Progr…"
      ]
     },
     "metadata": {},
     "output_type": "display_data"
    },
    {
     "data": {
      "application/vnd.jupyter.widget-view+json": {
       "model_id": "",
       "version_major": 2,
       "version_minor": 0
      },
      "text/plain": [
       "HBox(children=(FloatProgress(value=0.0, description='Episodes for: Pure exploration', max=1000.0, style=Progre…"
      ]
     },
     "metadata": {},
     "output_type": "display_data"
    },
    {
     "data": {
      "application/vnd.jupyter.widget-view+json": {
       "model_id": "",
       "version_major": 2,
       "version_minor": 0
      },
      "text/plain": [
       "HBox(children=(FloatProgress(value=0.0, description='Episodes for: Epsilon-Greedy 0.07', max=1000.0, style=Pro…"
      ]
     },
     "metadata": {},
     "output_type": "display_data"
    },
    {
     "data": {
      "application/vnd.jupyter.widget-view+json": {
       "model_id": "",
       "version_major": 2,
       "version_minor": 0
      },
      "text/plain": [
       "HBox(children=(FloatProgress(value=0.0, description='Episodes for: Epsilon-Greedy 0.1', max=1000.0, style=Prog…"
      ]
     },
     "metadata": {},
     "output_type": "display_data"
    },
    {
     "data": {
      "application/vnd.jupyter.widget-view+json": {
       "model_id": "",
       "version_major": 2,
       "version_minor": 0
      },
      "text/plain": [
       "HBox(children=(FloatProgress(value=0.0, description='Episodes for: Lin Epsilon-Greedy 1.0, 0.0, 0.1', max=1000…"
      ]
     },
     "metadata": {},
     "output_type": "display_data"
    },
    {
     "data": {
      "application/vnd.jupyter.widget-view+json": {
       "model_id": "",
       "version_major": 2,
       "version_minor": 0
      },
      "text/plain": [
       "HBox(children=(FloatProgress(value=0.0, description='Episodes for: Lin Epsilon-Greedy 0.3, 0.001, 0.1', max=10…"
      ]
     },
     "metadata": {},
     "output_type": "display_data"
    },
    {
     "data": {
      "application/vnd.jupyter.widget-view+json": {
       "model_id": "",
       "version_major": 2,
       "version_minor": 0
      },
      "text/plain": [
       "HBox(children=(FloatProgress(value=0.0, description='Episodes for: Exp Epsilon-Greedy 1.0, 0.0, 0.1', max=1000…"
      ]
     },
     "metadata": {},
     "output_type": "display_data"
    },
    {
     "data": {
      "application/vnd.jupyter.widget-view+json": {
       "model_id": "",
       "version_major": 2,
       "version_minor": 0
      },
      "text/plain": [
       "HBox(children=(FloatProgress(value=0.0, description='Episodes for: Exp Epsilon-Greedy 0.3, 0.0, 0.3', max=1000…"
      ]
     },
     "metadata": {},
     "output_type": "display_data"
    },
    {
     "data": {
      "application/vnd.jupyter.widget-view+json": {
       "model_id": "",
       "version_major": 2,
       "version_minor": 0
      },
      "text/plain": [
       "HBox(children=(FloatProgress(value=0.0, description='Episodes for: Optimistic 1.0, 10', max=1000.0, style=Prog…"
      ]
     },
     "metadata": {},
     "output_type": "display_data"
    },
    {
     "data": {
      "application/vnd.jupyter.widget-view+json": {
       "model_id": "",
       "version_major": 2,
       "version_minor": 0
      },
      "text/plain": [
       "HBox(children=(FloatProgress(value=0.0, description='Episodes for: Optimistic 1.0, 50', max=1000.0, style=Prog…"
      ]
     },
     "metadata": {},
     "output_type": "display_data"
    },
    {
     "data": {
      "application/vnd.jupyter.widget-view+json": {
       "model_id": "",
       "version_major": 2,
       "version_minor": 0
      },
      "text/plain": [
       "HBox(children=(FloatProgress(value=0.0, description='Experiments with seed 78', max=10.0, style=ProgressStyle(…"
      ]
     },
     "metadata": {},
     "output_type": "display_data"
    },
    {
     "data": {
      "application/vnd.jupyter.widget-view+json": {
       "model_id": "",
       "version_major": 2,
       "version_minor": 0
      },
      "text/plain": [
       "HBox(children=(FloatProgress(value=0.0, description='Episodes for: Pure exploitation', max=1000.0, style=Progr…"
      ]
     },
     "metadata": {},
     "output_type": "display_data"
    },
    {
     "data": {
      "application/vnd.jupyter.widget-view+json": {
       "model_id": "",
       "version_major": 2,
       "version_minor": 0
      },
      "text/plain": [
       "HBox(children=(FloatProgress(value=0.0, description='Episodes for: Pure exploration', max=1000.0, style=Progre…"
      ]
     },
     "metadata": {},
     "output_type": "display_data"
    },
    {
     "data": {
      "application/vnd.jupyter.widget-view+json": {
       "model_id": "",
       "version_major": 2,
       "version_minor": 0
      },
      "text/plain": [
       "HBox(children=(FloatProgress(value=0.0, description='Episodes for: Epsilon-Greedy 0.07', max=1000.0, style=Pro…"
      ]
     },
     "metadata": {},
     "output_type": "display_data"
    },
    {
     "data": {
      "application/vnd.jupyter.widget-view+json": {
       "model_id": "",
       "version_major": 2,
       "version_minor": 0
      },
      "text/plain": [
       "HBox(children=(FloatProgress(value=0.0, description='Episodes for: Epsilon-Greedy 0.1', max=1000.0, style=Prog…"
      ]
     },
     "metadata": {},
     "output_type": "display_data"
    },
    {
     "data": {
      "application/vnd.jupyter.widget-view+json": {
       "model_id": "",
       "version_major": 2,
       "version_minor": 0
      },
      "text/plain": [
       "HBox(children=(FloatProgress(value=0.0, description='Episodes for: Lin Epsilon-Greedy 1.0, 0.0, 0.1', max=1000…"
      ]
     },
     "metadata": {},
     "output_type": "display_data"
    },
    {
     "data": {
      "application/vnd.jupyter.widget-view+json": {
       "model_id": "",
       "version_major": 2,
       "version_minor": 0
      },
      "text/plain": [
       "HBox(children=(FloatProgress(value=0.0, description='Episodes for: Lin Epsilon-Greedy 0.3, 0.001, 0.1', max=10…"
      ]
     },
     "metadata": {},
     "output_type": "display_data"
    },
    {
     "data": {
      "application/vnd.jupyter.widget-view+json": {
       "model_id": "",
       "version_major": 2,
       "version_minor": 0
      },
      "text/plain": [
       "HBox(children=(FloatProgress(value=0.0, description='Episodes for: Exp Epsilon-Greedy 1.0, 0.0, 0.1', max=1000…"
      ]
     },
     "metadata": {},
     "output_type": "display_data"
    },
    {
     "data": {
      "application/vnd.jupyter.widget-view+json": {
       "model_id": "",
       "version_major": 2,
       "version_minor": 0
      },
      "text/plain": [
       "HBox(children=(FloatProgress(value=0.0, description='Episodes for: Exp Epsilon-Greedy 0.3, 0.0, 0.3', max=1000…"
      ]
     },
     "metadata": {},
     "output_type": "display_data"
    },
    {
     "data": {
      "application/vnd.jupyter.widget-view+json": {
       "model_id": "",
       "version_major": 2,
       "version_minor": 0
      },
      "text/plain": [
       "HBox(children=(FloatProgress(value=0.0, description='Episodes for: Optimistic 1.0, 10', max=1000.0, style=Prog…"
      ]
     },
     "metadata": {},
     "output_type": "display_data"
    },
    {
     "data": {
      "application/vnd.jupyter.widget-view+json": {
       "model_id": "",
       "version_major": 2,
       "version_minor": 0
      },
      "text/plain": [
       "HBox(children=(FloatProgress(value=0.0, description='Episodes for: Optimistic 1.0, 50', max=1000.0, style=Prog…"
      ]
     },
     "metadata": {},
     "output_type": "display_data"
    },
    {
     "data": {
      "application/vnd.jupyter.widget-view+json": {
       "model_id": "",
       "version_major": 2,
       "version_minor": 0
      },
      "text/plain": [
       "HBox(children=(FloatProgress(value=0.0, description='Experiments with seed 90', max=10.0, style=ProgressStyle(…"
      ]
     },
     "metadata": {},
     "output_type": "display_data"
    },
    {
     "data": {
      "application/vnd.jupyter.widget-view+json": {
       "model_id": "",
       "version_major": 2,
       "version_minor": 0
      },
      "text/plain": [
       "HBox(children=(FloatProgress(value=0.0, description='Episodes for: Pure exploitation', max=1000.0, style=Progr…"
      ]
     },
     "metadata": {},
     "output_type": "display_data"
    },
    {
     "data": {
      "application/vnd.jupyter.widget-view+json": {
       "model_id": "",
       "version_major": 2,
       "version_minor": 0
      },
      "text/plain": [
       "HBox(children=(FloatProgress(value=0.0, description='Episodes for: Pure exploration', max=1000.0, style=Progre…"
      ]
     },
     "metadata": {},
     "output_type": "display_data"
    },
    {
     "data": {
      "application/vnd.jupyter.widget-view+json": {
       "model_id": "",
       "version_major": 2,
       "version_minor": 0
      },
      "text/plain": [
       "HBox(children=(FloatProgress(value=0.0, description='Episodes for: Epsilon-Greedy 0.07', max=1000.0, style=Pro…"
      ]
     },
     "metadata": {},
     "output_type": "display_data"
    },
    {
     "data": {
      "application/vnd.jupyter.widget-view+json": {
       "model_id": "",
       "version_major": 2,
       "version_minor": 0
      },
      "text/plain": [
       "HBox(children=(FloatProgress(value=0.0, description='Episodes for: Epsilon-Greedy 0.1', max=1000.0, style=Prog…"
      ]
     },
     "metadata": {},
     "output_type": "display_data"
    },
    {
     "data": {
      "application/vnd.jupyter.widget-view+json": {
       "model_id": "",
       "version_major": 2,
       "version_minor": 0
      },
      "text/plain": [
       "HBox(children=(FloatProgress(value=0.0, description='Episodes for: Lin Epsilon-Greedy 1.0, 0.0, 0.1', max=1000…"
      ]
     },
     "metadata": {},
     "output_type": "display_data"
    },
    {
     "data": {
      "application/vnd.jupyter.widget-view+json": {
       "model_id": "",
       "version_major": 2,
       "version_minor": 0
      },
      "text/plain": [
       "HBox(children=(FloatProgress(value=0.0, description='Episodes for: Lin Epsilon-Greedy 0.3, 0.001, 0.1', max=10…"
      ]
     },
     "metadata": {},
     "output_type": "display_data"
    },
    {
     "data": {
      "application/vnd.jupyter.widget-view+json": {
       "model_id": "",
       "version_major": 2,
       "version_minor": 0
      },
      "text/plain": [
       "HBox(children=(FloatProgress(value=0.0, description='Episodes for: Exp Epsilon-Greedy 1.0, 0.0, 0.1', max=1000…"
      ]
     },
     "metadata": {},
     "output_type": "display_data"
    },
    {
     "data": {
      "application/vnd.jupyter.widget-view+json": {
       "model_id": "",
       "version_major": 2,
       "version_minor": 0
      },
      "text/plain": [
       "HBox(children=(FloatProgress(value=0.0, description='Episodes for: Exp Epsilon-Greedy 0.3, 0.0, 0.3', max=1000…"
      ]
     },
     "metadata": {},
     "output_type": "display_data"
    },
    {
     "data": {
      "application/vnd.jupyter.widget-view+json": {
       "model_id": "",
       "version_major": 2,
       "version_minor": 0
      },
      "text/plain": [
       "HBox(children=(FloatProgress(value=0.0, description='Episodes for: Optimistic 1.0, 10', max=1000.0, style=Prog…"
      ]
     },
     "metadata": {},
     "output_type": "display_data"
    },
    {
     "data": {
      "application/vnd.jupyter.widget-view+json": {
       "model_id": "",
       "version_major": 2,
       "version_minor": 0
      },
      "text/plain": [
       "HBox(children=(FloatProgress(value=0.0, description='Episodes for: Optimistic 1.0, 50', max=1000.0, style=Prog…"
      ]
     },
     "metadata": {},
     "output_type": "display_data"
    },
    {
     "data": {
      "application/vnd.jupyter.widget-view+json": {
       "model_id": "",
       "version_major": 2,
       "version_minor": 0
      },
      "text/plain": [
       "HBox(children=(FloatProgress(value=0.0, description='All environments', max=5.0, style=ProgressStyle(descripti…"
      ]
     },
     "metadata": {},
     "output_type": "display_data"
    },
    {
     "data": {
      "application/vnd.jupyter.widget-view+json": {
       "model_id": "",
       "version_major": 2,
       "version_minor": 0
      },
      "text/plain": [
       "HBox(children=(FloatProgress(value=0.0, description='Experiments with seed 12', max=10.0, style=ProgressStyle(…"
      ]
     },
     "metadata": {},
     "output_type": "display_data"
    },
    {
     "data": {
      "application/vnd.jupyter.widget-view+json": {
       "model_id": "",
       "version_major": 2,
       "version_minor": 0
      },
      "text/plain": [
       "HBox(children=(FloatProgress(value=0.0, description='Episodes for: Pure exploitation', max=1000.0, style=Progr…"
      ]
     },
     "metadata": {},
     "output_type": "display_data"
    },
    {
     "data": {
      "application/vnd.jupyter.widget-view+json": {
       "model_id": "",
       "version_major": 2,
       "version_minor": 0
      },
      "text/plain": [
       "HBox(children=(FloatProgress(value=0.0, description='Episodes for: Pure exploration', max=1000.0, style=Progre…"
      ]
     },
     "metadata": {},
     "output_type": "display_data"
    },
    {
     "data": {
      "application/vnd.jupyter.widget-view+json": {
       "model_id": "",
       "version_major": 2,
       "version_minor": 0
      },
      "text/plain": [
       "HBox(children=(FloatProgress(value=0.0, description='Episodes for: Epsilon-Greedy 0.07', max=1000.0, style=Pro…"
      ]
     },
     "metadata": {},
     "output_type": "display_data"
    },
    {
     "data": {
      "application/vnd.jupyter.widget-view+json": {
       "model_id": "",
       "version_major": 2,
       "version_minor": 0
      },
      "text/plain": [
       "HBox(children=(FloatProgress(value=0.0, description='Episodes for: Epsilon-Greedy 0.1', max=1000.0, style=Prog…"
      ]
     },
     "metadata": {},
     "output_type": "display_data"
    },
    {
     "data": {
      "application/vnd.jupyter.widget-view+json": {
       "model_id": "",
       "version_major": 2,
       "version_minor": 0
      },
      "text/plain": [
       "HBox(children=(FloatProgress(value=0.0, description='Episodes for: Lin Epsilon-Greedy 1.0, 0.0, 0.1', max=1000…"
      ]
     },
     "metadata": {},
     "output_type": "display_data"
    },
    {
     "data": {
      "application/vnd.jupyter.widget-view+json": {
       "model_id": "",
       "version_major": 2,
       "version_minor": 0
      },
      "text/plain": [
       "HBox(children=(FloatProgress(value=0.0, description='Episodes for: Lin Epsilon-Greedy 0.3, 0.001, 0.1', max=10…"
      ]
     },
     "metadata": {},
     "output_type": "display_data"
    },
    {
     "data": {
      "application/vnd.jupyter.widget-view+json": {
       "model_id": "",
       "version_major": 2,
       "version_minor": 0
      },
      "text/plain": [
       "HBox(children=(FloatProgress(value=0.0, description='Episodes for: Exp Epsilon-Greedy 1.0, 0.0, 0.1', max=1000…"
      ]
     },
     "metadata": {},
     "output_type": "display_data"
    },
    {
     "data": {
      "application/vnd.jupyter.widget-view+json": {
       "model_id": "",
       "version_major": 2,
       "version_minor": 0
      },
      "text/plain": [
       "HBox(children=(FloatProgress(value=0.0, description='Episodes for: Exp Epsilon-Greedy 0.3, 0.0, 0.3', max=1000…"
      ]
     },
     "metadata": {},
     "output_type": "display_data"
    },
    {
     "data": {
      "application/vnd.jupyter.widget-view+json": {
       "model_id": "",
       "version_major": 2,
       "version_minor": 0
      },
      "text/plain": [
       "HBox(children=(FloatProgress(value=0.0, description='Episodes for: Optimistic 1.0, 10', max=1000.0, style=Prog…"
      ]
     },
     "metadata": {},
     "output_type": "display_data"
    },
    {
     "data": {
      "application/vnd.jupyter.widget-view+json": {
       "model_id": "",
       "version_major": 2,
       "version_minor": 0
      },
      "text/plain": [
       "HBox(children=(FloatProgress(value=0.0, description='Episodes for: Optimistic 1.0, 50', max=1000.0, style=Prog…"
      ]
     },
     "metadata": {},
     "output_type": "display_data"
    },
    {
     "data": {
      "application/vnd.jupyter.widget-view+json": {
       "model_id": "",
       "version_major": 2,
       "version_minor": 0
      },
      "text/plain": [
       "HBox(children=(FloatProgress(value=0.0, description='Experiments with seed 34', max=10.0, style=ProgressStyle(…"
      ]
     },
     "metadata": {},
     "output_type": "display_data"
    },
    {
     "data": {
      "application/vnd.jupyter.widget-view+json": {
       "model_id": "",
       "version_major": 2,
       "version_minor": 0
      },
      "text/plain": [
       "HBox(children=(FloatProgress(value=0.0, description='Episodes for: Pure exploitation', max=1000.0, style=Progr…"
      ]
     },
     "metadata": {},
     "output_type": "display_data"
    },
    {
     "data": {
      "application/vnd.jupyter.widget-view+json": {
       "model_id": "",
       "version_major": 2,
       "version_minor": 0
      },
      "text/plain": [
       "HBox(children=(FloatProgress(value=0.0, description='Episodes for: Pure exploration', max=1000.0, style=Progre…"
      ]
     },
     "metadata": {},
     "output_type": "display_data"
    },
    {
     "data": {
      "application/vnd.jupyter.widget-view+json": {
       "model_id": "",
       "version_major": 2,
       "version_minor": 0
      },
      "text/plain": [
       "HBox(children=(FloatProgress(value=0.0, description='Episodes for: Epsilon-Greedy 0.07', max=1000.0, style=Pro…"
      ]
     },
     "metadata": {},
     "output_type": "display_data"
    },
    {
     "data": {
      "application/vnd.jupyter.widget-view+json": {
       "model_id": "",
       "version_major": 2,
       "version_minor": 0
      },
      "text/plain": [
       "HBox(children=(FloatProgress(value=0.0, description='Episodes for: Epsilon-Greedy 0.1', max=1000.0, style=Prog…"
      ]
     },
     "metadata": {},
     "output_type": "display_data"
    },
    {
     "data": {
      "application/vnd.jupyter.widget-view+json": {
       "model_id": "",
       "version_major": 2,
       "version_minor": 0
      },
      "text/plain": [
       "HBox(children=(FloatProgress(value=0.0, description='Episodes for: Lin Epsilon-Greedy 1.0, 0.0, 0.1', max=1000…"
      ]
     },
     "metadata": {},
     "output_type": "display_data"
    },
    {
     "data": {
      "application/vnd.jupyter.widget-view+json": {
       "model_id": "",
       "version_major": 2,
       "version_minor": 0
      },
      "text/plain": [
       "HBox(children=(FloatProgress(value=0.0, description='Episodes for: Lin Epsilon-Greedy 0.3, 0.001, 0.1', max=10…"
      ]
     },
     "metadata": {},
     "output_type": "display_data"
    },
    {
     "data": {
      "application/vnd.jupyter.widget-view+json": {
       "model_id": "",
       "version_major": 2,
       "version_minor": 0
      },
      "text/plain": [
       "HBox(children=(FloatProgress(value=0.0, description='Episodes for: Exp Epsilon-Greedy 1.0, 0.0, 0.1', max=1000…"
      ]
     },
     "metadata": {},
     "output_type": "display_data"
    },
    {
     "data": {
      "application/vnd.jupyter.widget-view+json": {
       "model_id": "",
       "version_major": 2,
       "version_minor": 0
      },
      "text/plain": [
       "HBox(children=(FloatProgress(value=0.0, description='Episodes for: Exp Epsilon-Greedy 0.3, 0.0, 0.3', max=1000…"
      ]
     },
     "metadata": {},
     "output_type": "display_data"
    },
    {
     "data": {
      "application/vnd.jupyter.widget-view+json": {
       "model_id": "",
       "version_major": 2,
       "version_minor": 0
      },
      "text/plain": [
       "HBox(children=(FloatProgress(value=0.0, description='Episodes for: Optimistic 1.0, 10', max=1000.0, style=Prog…"
      ]
     },
     "metadata": {},
     "output_type": "display_data"
    },
    {
     "data": {
      "application/vnd.jupyter.widget-view+json": {
       "model_id": "",
       "version_major": 2,
       "version_minor": 0
      },
      "text/plain": [
       "HBox(children=(FloatProgress(value=0.0, description='Episodes for: Optimistic 1.0, 50', max=1000.0, style=Prog…"
      ]
     },
     "metadata": {},
     "output_type": "display_data"
    },
    {
     "data": {
      "application/vnd.jupyter.widget-view+json": {
       "model_id": "",
       "version_major": 2,
       "version_minor": 0
      },
      "text/plain": [
       "HBox(children=(FloatProgress(value=0.0, description='Experiments with seed 56', max=10.0, style=ProgressStyle(…"
      ]
     },
     "metadata": {},
     "output_type": "display_data"
    },
    {
     "data": {
      "application/vnd.jupyter.widget-view+json": {
       "model_id": "",
       "version_major": 2,
       "version_minor": 0
      },
      "text/plain": [
       "HBox(children=(FloatProgress(value=0.0, description='Episodes for: Pure exploitation', max=1000.0, style=Progr…"
      ]
     },
     "metadata": {},
     "output_type": "display_data"
    },
    {
     "data": {
      "application/vnd.jupyter.widget-view+json": {
       "model_id": "",
       "version_major": 2,
       "version_minor": 0
      },
      "text/plain": [
       "HBox(children=(FloatProgress(value=0.0, description='Episodes for: Pure exploration', max=1000.0, style=Progre…"
      ]
     },
     "metadata": {},
     "output_type": "display_data"
    },
    {
     "data": {
      "application/vnd.jupyter.widget-view+json": {
       "model_id": "",
       "version_major": 2,
       "version_minor": 0
      },
      "text/plain": [
       "HBox(children=(FloatProgress(value=0.0, description='Episodes for: Epsilon-Greedy 0.07', max=1000.0, style=Pro…"
      ]
     },
     "metadata": {},
     "output_type": "display_data"
    },
    {
     "data": {
      "application/vnd.jupyter.widget-view+json": {
       "model_id": "",
       "version_major": 2,
       "version_minor": 0
      },
      "text/plain": [
       "HBox(children=(FloatProgress(value=0.0, description='Episodes for: Epsilon-Greedy 0.1', max=1000.0, style=Prog…"
      ]
     },
     "metadata": {},
     "output_type": "display_data"
    },
    {
     "data": {
      "application/vnd.jupyter.widget-view+json": {
       "model_id": "",
       "version_major": 2,
       "version_minor": 0
      },
      "text/plain": [
       "HBox(children=(FloatProgress(value=0.0, description='Episodes for: Lin Epsilon-Greedy 1.0, 0.0, 0.1', max=1000…"
      ]
     },
     "metadata": {},
     "output_type": "display_data"
    },
    {
     "data": {
      "application/vnd.jupyter.widget-view+json": {
       "model_id": "",
       "version_major": 2,
       "version_minor": 0
      },
      "text/plain": [
       "HBox(children=(FloatProgress(value=0.0, description='Episodes for: Lin Epsilon-Greedy 0.3, 0.001, 0.1', max=10…"
      ]
     },
     "metadata": {},
     "output_type": "display_data"
    },
    {
     "data": {
      "application/vnd.jupyter.widget-view+json": {
       "model_id": "",
       "version_major": 2,
       "version_minor": 0
      },
      "text/plain": [
       "HBox(children=(FloatProgress(value=0.0, description='Episodes for: Exp Epsilon-Greedy 1.0, 0.0, 0.1', max=1000…"
      ]
     },
     "metadata": {},
     "output_type": "display_data"
    },
    {
     "data": {
      "application/vnd.jupyter.widget-view+json": {
       "model_id": "",
       "version_major": 2,
       "version_minor": 0
      },
      "text/plain": [
       "HBox(children=(FloatProgress(value=0.0, description='Episodes for: Exp Epsilon-Greedy 0.3, 0.0, 0.3', max=1000…"
      ]
     },
     "metadata": {},
     "output_type": "display_data"
    },
    {
     "data": {
      "application/vnd.jupyter.widget-view+json": {
       "model_id": "",
       "version_major": 2,
       "version_minor": 0
      },
      "text/plain": [
       "HBox(children=(FloatProgress(value=0.0, description='Episodes for: Optimistic 1.0, 10', max=1000.0, style=Prog…"
      ]
     },
     "metadata": {},
     "output_type": "display_data"
    },
    {
     "data": {
      "application/vnd.jupyter.widget-view+json": {
       "model_id": "",
       "version_major": 2,
       "version_minor": 0
      },
      "text/plain": [
       "HBox(children=(FloatProgress(value=0.0, description='Episodes for: Optimistic 1.0, 50', max=1000.0, style=Prog…"
      ]
     },
     "metadata": {},
     "output_type": "display_data"
    },
    {
     "data": {
      "application/vnd.jupyter.widget-view+json": {
       "model_id": "",
       "version_major": 2,
       "version_minor": 0
      },
      "text/plain": [
       "HBox(children=(FloatProgress(value=0.0, description='Experiments with seed 78', max=10.0, style=ProgressStyle(…"
      ]
     },
     "metadata": {},
     "output_type": "display_data"
    },
    {
     "data": {
      "application/vnd.jupyter.widget-view+json": {
       "model_id": "",
       "version_major": 2,
       "version_minor": 0
      },
      "text/plain": [
       "HBox(children=(FloatProgress(value=0.0, description='Episodes for: Pure exploitation', max=1000.0, style=Progr…"
      ]
     },
     "metadata": {},
     "output_type": "display_data"
    },
    {
     "data": {
      "application/vnd.jupyter.widget-view+json": {
       "model_id": "",
       "version_major": 2,
       "version_minor": 0
      },
      "text/plain": [
       "HBox(children=(FloatProgress(value=0.0, description='Episodes for: Pure exploration', max=1000.0, style=Progre…"
      ]
     },
     "metadata": {},
     "output_type": "display_data"
    },
    {
     "data": {
      "application/vnd.jupyter.widget-view+json": {
       "model_id": "",
       "version_major": 2,
       "version_minor": 0
      },
      "text/plain": [
       "HBox(children=(FloatProgress(value=0.0, description='Episodes for: Epsilon-Greedy 0.07', max=1000.0, style=Pro…"
      ]
     },
     "metadata": {},
     "output_type": "display_data"
    },
    {
     "data": {
      "application/vnd.jupyter.widget-view+json": {
       "model_id": "",
       "version_major": 2,
       "version_minor": 0
      },
      "text/plain": [
       "HBox(children=(FloatProgress(value=0.0, description='Episodes for: Epsilon-Greedy 0.1', max=1000.0, style=Prog…"
      ]
     },
     "metadata": {},
     "output_type": "display_data"
    },
    {
     "data": {
      "application/vnd.jupyter.widget-view+json": {
       "model_id": "",
       "version_major": 2,
       "version_minor": 0
      },
      "text/plain": [
       "HBox(children=(FloatProgress(value=0.0, description='Episodes for: Lin Epsilon-Greedy 1.0, 0.0, 0.1', max=1000…"
      ]
     },
     "metadata": {},
     "output_type": "display_data"
    },
    {
     "data": {
      "application/vnd.jupyter.widget-view+json": {
       "model_id": "",
       "version_major": 2,
       "version_minor": 0
      },
      "text/plain": [
       "HBox(children=(FloatProgress(value=0.0, description='Episodes for: Lin Epsilon-Greedy 0.3, 0.001, 0.1', max=10…"
      ]
     },
     "metadata": {},
     "output_type": "display_data"
    },
    {
     "data": {
      "application/vnd.jupyter.widget-view+json": {
       "model_id": "",
       "version_major": 2,
       "version_minor": 0
      },
      "text/plain": [
       "HBox(children=(FloatProgress(value=0.0, description='Episodes for: Exp Epsilon-Greedy 1.0, 0.0, 0.1', max=1000…"
      ]
     },
     "metadata": {},
     "output_type": "display_data"
    },
    {
     "data": {
      "application/vnd.jupyter.widget-view+json": {
       "model_id": "",
       "version_major": 2,
       "version_minor": 0
      },
      "text/plain": [
       "HBox(children=(FloatProgress(value=0.0, description='Episodes for: Exp Epsilon-Greedy 0.3, 0.0, 0.3', max=1000…"
      ]
     },
     "metadata": {},
     "output_type": "display_data"
    },
    {
     "data": {
      "application/vnd.jupyter.widget-view+json": {
       "model_id": "",
       "version_major": 2,
       "version_minor": 0
      },
      "text/plain": [
       "HBox(children=(FloatProgress(value=0.0, description='Episodes for: Optimistic 1.0, 10', max=1000.0, style=Prog…"
      ]
     },
     "metadata": {},
     "output_type": "display_data"
    },
    {
     "data": {
      "application/vnd.jupyter.widget-view+json": {
       "model_id": "",
       "version_major": 2,
       "version_minor": 0
      },
      "text/plain": [
       "HBox(children=(FloatProgress(value=0.0, description='Episodes for: Optimistic 1.0, 50', max=1000.0, style=Prog…"
      ]
     },
     "metadata": {},
     "output_type": "display_data"
    },
    {
     "data": {
      "application/vnd.jupyter.widget-view+json": {
       "model_id": "",
       "version_major": 2,
       "version_minor": 0
      },
      "text/plain": [
       "HBox(children=(FloatProgress(value=0.0, description='Experiments with seed 90', max=10.0, style=ProgressStyle(…"
      ]
     },
     "metadata": {},
     "output_type": "display_data"
    },
    {
     "data": {
      "application/vnd.jupyter.widget-view+json": {
       "model_id": "",
       "version_major": 2,
       "version_minor": 0
      },
      "text/plain": [
       "HBox(children=(FloatProgress(value=0.0, description='Episodes for: Pure exploitation', max=1000.0, style=Progr…"
      ]
     },
     "metadata": {},
     "output_type": "display_data"
    },
    {
     "data": {
      "application/vnd.jupyter.widget-view+json": {
       "model_id": "",
       "version_major": 2,
       "version_minor": 0
      },
      "text/plain": [
       "HBox(children=(FloatProgress(value=0.0, description='Episodes for: Pure exploration', max=1000.0, style=Progre…"
      ]
     },
     "metadata": {},
     "output_type": "display_data"
    },
    {
     "data": {
      "application/vnd.jupyter.widget-view+json": {
       "model_id": "",
       "version_major": 2,
       "version_minor": 0
      },
      "text/plain": [
       "HBox(children=(FloatProgress(value=0.0, description='Episodes for: Epsilon-Greedy 0.07', max=1000.0, style=Pro…"
      ]
     },
     "metadata": {},
     "output_type": "display_data"
    },
    {
     "data": {
      "application/vnd.jupyter.widget-view+json": {
       "model_id": "",
       "version_major": 2,
       "version_minor": 0
      },
      "text/plain": [
       "HBox(children=(FloatProgress(value=0.0, description='Episodes for: Epsilon-Greedy 0.1', max=1000.0, style=Prog…"
      ]
     },
     "metadata": {},
     "output_type": "display_data"
    },
    {
     "data": {
      "application/vnd.jupyter.widget-view+json": {
       "model_id": "",
       "version_major": 2,
       "version_minor": 0
      },
      "text/plain": [
       "HBox(children=(FloatProgress(value=0.0, description='Episodes for: Lin Epsilon-Greedy 1.0, 0.0, 0.1', max=1000…"
      ]
     },
     "metadata": {},
     "output_type": "display_data"
    },
    {
     "data": {
      "application/vnd.jupyter.widget-view+json": {
       "model_id": "",
       "version_major": 2,
       "version_minor": 0
      },
      "text/plain": [
       "HBox(children=(FloatProgress(value=0.0, description='Episodes for: Lin Epsilon-Greedy 0.3, 0.001, 0.1', max=10…"
      ]
     },
     "metadata": {},
     "output_type": "display_data"
    },
    {
     "data": {
      "application/vnd.jupyter.widget-view+json": {
       "model_id": "",
       "version_major": 2,
       "version_minor": 0
      },
      "text/plain": [
       "HBox(children=(FloatProgress(value=0.0, description='Episodes for: Exp Epsilon-Greedy 1.0, 0.0, 0.1', max=1000…"
      ]
     },
     "metadata": {},
     "output_type": "display_data"
    },
    {
     "data": {
      "application/vnd.jupyter.widget-view+json": {
       "model_id": "",
       "version_major": 2,
       "version_minor": 0
      },
      "text/plain": [
       "HBox(children=(FloatProgress(value=0.0, description='Episodes for: Exp Epsilon-Greedy 0.3, 0.0, 0.3', max=1000…"
      ]
     },
     "metadata": {},
     "output_type": "display_data"
    },
    {
     "data": {
      "application/vnd.jupyter.widget-view+json": {
       "model_id": "",
       "version_major": 2,
       "version_minor": 0
      },
      "text/plain": [
       "HBox(children=(FloatProgress(value=0.0, description='Episodes for: Optimistic 1.0, 10', max=1000.0, style=Prog…"
      ]
     },
     "metadata": {},
     "output_type": "display_data"
    },
    {
     "data": {
      "application/vnd.jupyter.widget-view+json": {
       "model_id": "",
       "version_major": 2,
       "version_minor": 0
      },
      "text/plain": [
       "HBox(children=(FloatProgress(value=0.0, description='Episodes for: Optimistic 1.0, 50', max=1000.0, style=Prog…"
      ]
     },
     "metadata": {},
     "output_type": "display_data"
    },
    {
     "name": "stdout",
     "output_type": "stream",
     "text": [
      "\n"
     ]
    }
   ],
   "source": [
    "def b2_run_simple_strategies_experiment(env_name='BanditTwoArmedUniform-v0'):\n",
    "    results = {}\n",
    "    experiments = [\n",
    "        # baseline strategies\n",
    "        lambda env: pure_exploitation(env),\n",
    "        lambda env: pure_exploration(env),\n",
    "\n",
    "        # epsilon greedy\n",
    "        lambda env: epsilon_greedy(env, epsilon=0.07),\n",
    "        lambda env: epsilon_greedy(env, epsilon=0.1),\n",
    "\n",
    "        # epsilon greedy linearly decaying\n",
    "        lambda env: lin_dec_epsilon_greedy(env, \n",
    "                                           init_epsilon=1.0,\n",
    "                                           min_epsilon=0.0,\n",
    "                                           decay_ratio=0.1),\n",
    "        lambda env: lin_dec_epsilon_greedy(env, \n",
    "                                           init_epsilon=0.3,\n",
    "                                           min_epsilon=0.001,\n",
    "                                           decay_ratio=0.1),\n",
    "\n",
    "        # epsilon greedy exponentially decaying\n",
    "        lambda env: exp_dec_epsilon_greedy(env, \n",
    "                                           init_epsilon=1.0, \n",
    "                                           min_epsilon=0.0,\n",
    "                                           decay_ratio=0.1),\n",
    "        lambda env: exp_dec_epsilon_greedy(env, \n",
    "                                           init_epsilon=0.3, \n",
    "                                           min_epsilon=0.0, \n",
    "                                           decay_ratio=0.3),\n",
    "\n",
    "        # optimistic\n",
    "        lambda env: optimistic_initialization(env, \n",
    "                                              optimistic_estimate=1.0, \n",
    "                                              initial_count=10),\n",
    "        lambda env: optimistic_initialization(env, \n",
    "                                              optimistic_estimate=1.0, \n",
    "                                              initial_count=50),\n",
    "    ]\n",
    "    for env_seed in tqdm(SEEDS, desc='All experiments'):\n",
    "        env = gym.make(env_name, seed=env_seed) ; env.reset()\n",
    "        true_Q = np.array(env.env.p_dist * env.env.r_dist)\n",
    "        opt_V = np.max(true_Q)\n",
    "        for seed in tqdm(SEEDS, desc='All environments', leave=False):\n",
    "            for experiment in tqdm(experiments, \n",
    "                                   desc='Experiments with seed {}'.format(seed), \n",
    "                                   leave=False):\n",
    "                env.seed(seed) ; np.random.seed(seed) ; random.seed(seed)\n",
    "                name, Re, Qe, Ae = experiment(env)\n",
    "                Ae = np.expand_dims(Ae, -1)\n",
    "                episode_mean_rew = np.cumsum(Re) / (np.arange(len(Re)) + 1)\n",
    "                Q_selected = np.take_along_axis(\n",
    "                    np.tile(true_Q, Ae.shape), Ae, axis=1).squeeze()\n",
    "                regret = opt_V - Q_selected\n",
    "                cum_regret = np.cumsum(regret)\n",
    "                if name not in results.keys(): results[name] = {}\n",
    "                if 'Re' not in results[name].keys(): results[name]['Re'] = []\n",
    "                if 'Qe' not in results[name].keys(): results[name]['Qe'] = []\n",
    "                if 'Ae' not in results[name].keys(): results[name]['Ae'] = []\n",
    "                if 'cum_regret' not in results[name].keys(): \n",
    "                    results[name]['cum_regret'] = []\n",
    "                if 'episode_mean_rew' not in results[name].keys(): \n",
    "                    results[name]['episode_mean_rew'] = []\n",
    "\n",
    "                results[name]['Re'].append(Re)\n",
    "                results[name]['Qe'].append(Qe)\n",
    "                results[name]['Ae'].append(Ae)\n",
    "                results[name]['cum_regret'].append(cum_regret)\n",
    "                results[name]['episode_mean_rew'].append(episode_mean_rew)\n",
    "    return results\n",
    "\n",
    "b2_results_s = b2_run_simple_strategies_experiment()"
   ]
  },
  {
   "cell_type": "markdown",
   "metadata": {},
   "source": [
    "# Plotting results of simple strategies on Two-Armed Bandit environments"
   ]
  },
  {
   "cell_type": "code",
   "execution_count": 15,
   "metadata": {},
   "outputs": [
    {
     "data": {
      "image/png": "[encoded data removed]",
      "text/plain": [
       "<Figure size 2016x2016 with 5 Axes>"
      ]
     },
     "metadata": {},
     "output_type": "display_data"
    }
   ],
   "source": [
    "fig, axs = plt.subplots(5, 1, figsize=(28, 28), sharey=False, sharex=False)\n",
    "\n",
    "lines = [\"-\",\"--\",\":\",\"-.\"]\n",
    "linecycler = cycle(lines)\n",
    "min_reg, max_ret = float('inf'), float('-inf')\n",
    "for label, result in b2_results_s.items():\n",
    "    color = next(linecycler)\n",
    "\n",
    "    # reward\n",
    "    episode_mean_rew = np.array(result['episode_mean_rew'])\n",
    "    mean_episode_mean_rew = np.mean(episode_mean_rew, axis=0)\n",
    "\n",
    "    axs[0].plot(mean_episode_mean_rew, color, linewidth=2, label=label)\n",
    "\n",
    "    axs[1].plot(mean_episode_mean_rew, color, linewidth=2, label=label)\n",
    "    axs[1].set_xscale('log')\n",
    "    \n",
    "    axs[2].plot(mean_episode_mean_rew, color, linewidth=2, label=label)\n",
    "    if max_ret < mean_episode_mean_rew[-1]: max_ret = mean_episode_mean_rew[-1]\n",
    "    axs[2].axis((mean_episode_mean_rew.shape[0]*0.989,\n",
    "                 mean_episode_mean_rew.shape[0],\n",
    "                 max_ret-0.005,\n",
    "                 max_ret+0.0001))\n",
    "\n",
    "    # regret\n",
    "    cum_regret = np.array(result['cum_regret'])\n",
    "    mean_cum_regret = np.mean(cum_regret, axis=0)\n",
    "\n",
    "    axs[3].plot(mean_cum_regret, color, linewidth=2, label=label)\n",
    "    \n",
    "    axs[4].plot(mean_cum_regret, color, linewidth=2, label=label)\n",
    "    if min_reg > mean_cum_regret[-1]: min_reg = mean_cum_regret[-1]\n",
    "    plt.axis((mean_cum_regret.shape[0]*0.989,\n",
    "              mean_cum_regret.shape[0],\n",
    "              min_reg-0.5,\n",
    "              min_reg+5))\n",
    "\n",
    "    # config plot\n",
    "    axs[0].set_title('Mean Episode Reward')\n",
    "    axs[1].set_title('Mean Episode Reward (Log scale)')\n",
    "    axs[2].set_title('Mean Episode Reward (Zoom on best)')\n",
    "    axs[3].set_title('Total Regret')\n",
    "    axs[4].set_title('Total Regret (Zoom on best)')\n",
    "    plt.xlabel('Episodes')\n",
    "    axs[0].legend(loc='upper left')\n",
    "\n",
    "plt.show()"
   ]
  },
  {
   "cell_type": "markdown",
   "metadata": {},
   "source": [
    "# Advanced strategies"
   ]
  },
  {
   "cell_type": "code",
   "execution_count": null,
   "metadata": {},
   "outputs": [],
   "source": [
    "def softmax(env, \n",
    "            init_temp=float('inf'), \n",
    "            min_temp=0.0,\n",
    "            decay_ratio=0.04,\n",
    "            n_episodes=1000):\n",
    "    Q = np.zeros((env.action_space.n), dtype=np.float64)\n",
    "    N = np.zeros((env.action_space.n), dtype=np.int)\n",
    "\n",
    "    Qe = np.empty((n_episodes, env.action_space.n), dtype=np.float64)\n",
    "    returns = np.empty(n_episodes, dtype=np.float64)\n",
    "    actions = np.empty(n_episodes, dtype=np.int)\n",
    "    name = 'Lin SoftMax {}, {}, {}'.format(init_temp, \n",
    "                                           min_temp,\n",
    "                                           decay_ratio)\n",
    "    # can't really use infinity\n",
    "    init_temp = min(init_temp,\n",
    "                    sys.float_info.max)\n",
    "    # can't really use zero\n",
    "    min_temp = max(min_temp,\n",
    "                   np.nextafter(np.float32(0), \n",
    "                                np.float32(1)))\n",
    "    for e in tqdm(range(n_episodes),\n",
    "                  desc='Episodes for: ' + name, \n",
    "                  leave=False):\n",
    "        decay_episodes = n_episodes * decay_ratio\n",
    "        temp = 1 - e / decay_episodes\n",
    "        temp *= init_temp - min_temp\n",
    "        temp += min_temp\n",
    "        temp = np.clip(temp, min_temp, init_temp)\n",
    "\n",
    "        scaled_Q = Q / temp\n",
    "        norm_Q = scaled_Q - np.max(scaled_Q)\n",
    "        exp_Q = np.exp(norm_Q)\n",
    "        probs = exp_Q / np.sum(exp_Q)\n",
    "        assert np.isclose(probs.sum(), 1.0)\n",
    "\n",
    "        action = np.random.choice(np.arange(len(probs)), \n",
    "                                  size=1, \n",
    "                                  p=probs)[0]\n",
    "\n",
    "        _, reward, _, _ = env.step(action)\n",
    "        N[action] += 1\n",
    "        Q[action] = Q[action] + (reward - Q[action])/N[action]\n",
    "        \n",
    "        Qe[e] = Q\n",
    "        returns[e] = reward\n",
    "        actions[e] = action\n",
    "    return name, returns, Qe, actions"
   ]
  },
  {
   "cell_type": "code",
   "execution_count": null,
   "metadata": {},
   "outputs": [],
   "source": [
    "def upper_confidence_bound(env, \n",
    "                           c=2, \n",
    "                           n_episodes=1000):\n",
    "    Q = np.zeros((env.action_space.n), dtype=np.float64)\n",
    "    N = np.zeros((env.action_space.n), dtype=np.int)\n",
    "    \n",
    "    Qe = np.empty((n_episodes, env.action_space.n), dtype=np.float64)\n",
    "    returns = np.empty(n_episodes, dtype=np.float64)\n",
    "    actions = np.empty(n_episodes, dtype=np.int)\n",
    "    name = 'UCB {}'.format(c)\n",
    "    for e in tqdm(range(n_episodes), \n",
    "                  desc='Episodes for: ' + name, \n",
    "                  leave=False):\n",
    "        action = e\n",
    "        if e >= len(Q):\n",
    "            U = np.sqrt(c * np.log(e)/N)\n",
    "            action = np.argmax(Q + U)\n",
    "\n",
    "        _, reward, _, _ = env.step(action)\n",
    "        N[action] += 1\n",
    "        Q[action] = Q[action] + (reward - Q[action])/N[action]\n",
    "        \n",
    "        Qe[e] = Q\n",
    "        returns[e] = reward\n",
    "        actions[e] = action\n",
    "    return name, returns, Qe, actions"
   ]
  },
  {
   "cell_type": "code",
   "execution_count": null,
   "metadata": {},
   "outputs": [],
   "source": [
    "def thompson_sampling(env, \n",
    "                      alpha=1,\n",
    "                      beta=0,\n",
    "                      n_episodes=1000):\n",
    "    Q = np.zeros((env.action_space.n), dtype=np.float64)\n",
    "    N = np.zeros((env.action_space.n), dtype=np.int)\n",
    "    \n",
    "    Qe = np.empty((n_episodes, env.action_space.n), dtype=np.float64)\n",
    "    returns = np.empty(n_episodes, dtype=np.float64)\n",
    "    actions = np.empty(n_episodes, dtype=np.int)\n",
    "    name = 'Thompson Sampling {}, {}'.format(alpha, beta)\n",
    "    for e in tqdm(range(n_episodes), \n",
    "                  desc='Episodes for: ' + name, \n",
    "                  leave=False):\n",
    "        samples = np.random.normal(\n",
    "            loc=Q, scale=alpha/(np.sqrt(N) + beta))\n",
    "        action = np.argmax(samples)\n",
    "\n",
    "        _, reward, _, _ = env.step(action)\n",
    "        N[action] += 1\n",
    "        Q[action] = Q[action] + (reward - Q[action])/N[action]\n",
    "\n",
    "        Qe[e] = Q\n",
    "        returns[e] = reward\n",
    "        actions[e] = action\n",
    "    return name, returns, Qe, actions"
   ]
  },
  {
   "cell_type": "markdown",
   "metadata": {},
   "source": [
    "# Running advanced strategies on Two-Armed Bandit environments"
   ]
  },
  {
   "cell_type": "code",
   "execution_count": null,
   "metadata": {},
   "outputs": [],
   "source": [
    "def b2_run_advanced_strategies_experiment(env_name='BanditTwoArmedUniform-v0'):\n",
    "    results = {}\n",
    "    experiments = [\n",
    "        # baseline strategies \n",
    "        lambda env: pure_exploitation(env),\n",
    "        lambda env: pure_exploration(env),\n",
    "\n",
    "        # best from simple strategies\n",
    "        lambda env: optimistic_initialization(env, \n",
    "                                              optimistic_estimate=1.0, \n",
    "                                              initial_count=10),\n",
    "        lambda env: exp_dec_epsilon_greedy(env, \n",
    "                                           init_epsilon=0.3, \n",
    "                                           min_epsilon=0.0, \n",
    "                                           decay_ratio=0.3),\n",
    "\n",
    "        # softmax\n",
    "        lambda env: softmax(env, \n",
    "                            init_temp=float('inf'), \n",
    "                            min_temp=0.0, \n",
    "                            decay_ratio=0.005),\n",
    "        lambda env: softmax(env, \n",
    "                            init_temp=100, \n",
    "                            min_temp=0.01, \n",
    "                            decay_ratio=0.01),\n",
    "\n",
    "        # ucb\n",
    "        lambda env: upper_confidence_bound(env, c=0.2),\n",
    "        lambda env: upper_confidence_bound(env, c=0.5),\n",
    "\n",
    "        # thompson sampling\n",
    "        lambda env: thompson_sampling(env, alpha=1, beta=1),\n",
    "        lambda env: thompson_sampling(env, alpha=0.5, beta=0.5),\n",
    "    ]\n",
    "    for env_seed in tqdm(SEEDS, desc='All experiments'):\n",
    "        env = gym.make(env_name, seed=env_seed) ; env.reset()\n",
    "        true_Q = np.array(env.env.p_dist * env.env.r_dist)\n",
    "        opt_V = np.max(true_Q)\n",
    "        for seed in tqdm(SEEDS, desc='All environments', leave=False):\n",
    "            for experiment in tqdm(experiments, \n",
    "                                   desc='Experiments with seed {}'.format(seed), \n",
    "                                   leave=False):\n",
    "                env.seed(seed) ; np.random.seed(seed) ; random.seed(seed)\n",
    "                name, Re, Qe, Ae = experiment(env)\n",
    "                Ae = np.expand_dims(Ae, -1)\n",
    "                episode_mean_rew = np.cumsum(Re) / (np.arange(len(Re)) + 1)\n",
    "                Q_selected = np.take_along_axis(\n",
    "                    np.tile(true_Q, Ae.shape), Ae, axis=1).squeeze()\n",
    "                regret = opt_V - Q_selected\n",
    "                cum_regret = np.cumsum(regret)\n",
    "                if name not in results.keys(): results[name] = {}\n",
    "                if 'Re' not in results[name].keys(): results[name]['Re'] = []\n",
    "                if 'Qe' not in results[name].keys(): results[name]['Qe'] = []\n",
    "                if 'Ae' not in results[name].keys(): results[name]['Ae'] = []\n",
    "                if 'cum_regret' not in results[name].keys(): \n",
    "                    results[name]['cum_regret'] = []\n",
    "                if 'episode_mean_rew' not in results[name].keys(): \n",
    "                    results[name]['episode_mean_rew'] = []\n",
    "\n",
    "                results[name]['Re'].append(Re)\n",
    "                results[name]['Qe'].append(Qe)\n",
    "                results[name]['Ae'].append(Ae)\n",
    "                results[name]['cum_regret'].append(cum_regret)\n",
    "                results[name]['episode_mean_rew'].append(episode_mean_rew)\n",
    "    return results\n",
    "\n",
    "b2_results_a = b2_run_advanced_strategies_experiment()"
   ]
  },
  {
   "cell_type": "markdown",
   "metadata": {},
   "source": [
    "# Plotting results of advanced strategies on Two-Armed Bandit  environments"
   ]
  },
  {
   "cell_type": "code",
   "execution_count": null,
   "metadata": {},
   "outputs": [],
   "source": [
    "fig, axs = plt.subplots(5, 1, figsize=(28, 28), sharey=False, sharex=False)\n",
    "\n",
    "lines = [\"-\",\"--\",\":\",\"-.\"]\n",
    "linecycler = cycle(lines)\n",
    "min_reg, max_ret = float('inf'), float('-inf')\n",
    "for label, result in b2_results_a.items():\n",
    "    color = next(linecycler)\n",
    "\n",
    "    # reward\n",
    "    episode_mean_rew = np.array(result['episode_mean_rew'])\n",
    "    mean_episode_mean_rew = np.mean(episode_mean_rew, axis=0)\n",
    "\n",
    "    axs[0].plot(mean_episode_mean_rew, color, linewidth=2, label=label)\n",
    "\n",
    "    axs[1].plot(mean_episode_mean_rew, color, linewidth=2, label=label)\n",
    "    axs[1].set_xscale('log')\n",
    "    \n",
    "    axs[2].plot(mean_episode_mean_rew, color, linewidth=2, label=label)\n",
    "    if max_ret < mean_episode_mean_rew[-1]: max_ret = mean_episode_mean_rew[-1]\n",
    "    axs[2].axis((mean_episode_mean_rew.shape[0]*0.989,\n",
    "                 mean_episode_mean_rew.shape[0],\n",
    "                 max_ret-0.004,\n",
    "                 max_ret+0.0001))\n",
    "\n",
    "    # regret\n",
    "    cum_regret = np.array(result['cum_regret'])\n",
    "    mean_cum_regret = np.mean(cum_regret, axis=0)\n",
    "\n",
    "    axs[3].plot(mean_cum_regret, color, linewidth=2, label=label)\n",
    "    \n",
    "    axs[4].plot(mean_cum_regret, color, linewidth=2, label=label)\n",
    "    if min_reg > mean_cum_regret[-1]: min_reg = mean_cum_regret[-1]\n",
    "    plt.axis((mean_cum_regret.shape[0]*0.989,\n",
    "              mean_cum_regret.shape[0],\n",
    "              min_reg-1,\n",
    "              min_reg+4))\n",
    "\n",
    "    # config plot\n",
    "    axs[0].set_title('Mean Episode Reward')\n",
    "    axs[1].set_title('Mean Episode Reward (Log scale)')\n",
    "    axs[2].set_title('Mean Episode Reward (Zoom on best)')\n",
    "    axs[3].set_title('Total Regret')\n",
    "    axs[4].set_title('Total Regret (Zoom on best)')\n",
    "    plt.xlabel('Episodes')\n",
    "    axs[0].legend(loc='upper left')\n",
    "    \n",
    "plt.show()"
   ]
  },
  {
   "cell_type": "markdown",
   "metadata": {},
   "source": [
    "# 10-Armed Gaussian Bandit environments"
   ]
  },
  {
   "cell_type": "code",
   "execution_count": null,
   "metadata": {},
   "outputs": [],
   "source": [
    "b10_Vs = []\n",
    "for seed in SEEDS:\n",
    "    env_name = 'BanditTenArmedGaussian-v0'\n",
    "    env = gym.make(env_name, seed=seed) ; env.reset()\n",
    "    r_dist = np.array(env.env.r_dist)[:,0]\n",
    "    b10_Q = np.array(env.env.p_dist * r_dist)\n",
    "    print('10-Armed Bandit environment with seed', seed)\n",
    "    print('Probability of reward:', env.env.p_dist)\n",
    "    print('Reward:', r_dist)\n",
    "    print('Q(.):', b10_Q)\n",
    "    b10_Vs.append(np.max(b10_Q))\n",
    "    print('V*:', b10_Vs[-1])\n",
    "    print()\n",
    "print('Mean V* across all seeds:', np.mean(b10_Vs))"
   ]
  },
  {
   "cell_type": "markdown",
   "metadata": {},
   "source": [
    "# Running simple strategies on 10-Armed Bandit environments"
   ]
  },
  {
   "cell_type": "code",
   "execution_count": null,
   "metadata": {},
   "outputs": [],
   "source": [
    "def b10_run_simple_strategies_experiment(env_name='BanditTenArmedGaussian-v0'):\n",
    "    results = {}\n",
    "    experiments = [\n",
    "        # baseline strategies\n",
    "        lambda env: pure_exploitation(env),\n",
    "        lambda env: pure_exploration(env),\n",
    "\n",
    "        # epsilon greedy\n",
    "        lambda env: epsilon_greedy(env, epsilon=0.07),\n",
    "        lambda env: epsilon_greedy(env, epsilon=0.1),\n",
    "\n",
    "        # epsilon greedy linearly decaying\n",
    "        lambda env: lin_dec_epsilon_greedy(env, \n",
    "                                           init_epsilon=1.0,\n",
    "                                           min_epsilon=0.0,\n",
    "                                           decay_ratio=0.1),\n",
    "        lambda env: lin_dec_epsilon_greedy(env, \n",
    "                                           init_epsilon=0.3,\n",
    "                                           min_epsilon=0.001,\n",
    "                                           decay_ratio=0.1),\n",
    "\n",
    "        # epsilon greedy exponentially decaying\n",
    "        lambda env: exp_dec_epsilon_greedy(env, \n",
    "                                           init_epsilon=1.0, \n",
    "                                           min_epsilon=0.0,\n",
    "                                           decay_ratio=0.1),\n",
    "        lambda env: exp_dec_epsilon_greedy(env, \n",
    "                                           init_epsilon=0.3, \n",
    "                                           min_epsilon=0.0, \n",
    "                                           decay_ratio=0.3),\n",
    "\n",
    "        # optimistic\n",
    "        lambda env: optimistic_initialization(env, \n",
    "                                              optimistic_estimate=1.0, \n",
    "                                              initial_count=10),\n",
    "        lambda env: optimistic_initialization(env, \n",
    "                                              optimistic_estimate=1.0, \n",
    "                                              initial_count=50),\n",
    "    ]\n",
    "    for env_seed in tqdm(SEEDS, desc='All experiments'):\n",
    "        env = gym.make(env_name, seed=env_seed) ; env.reset()\n",
    "        r_dist = np.array(env.env.r_dist)[:,0]\n",
    "        true_Q = np.array(env.env.p_dist * r_dist)\n",
    "        opt_V = np.max(true_Q)\n",
    "        for seed in tqdm(SEEDS, desc='All environments', leave=False):\n",
    "            for experiment in tqdm(experiments, \n",
    "                                   desc='Experiments with seed {}'.format(seed), \n",
    "                                   leave=False):\n",
    "                env.seed(seed) ; np.random.seed(seed) ; random.seed(seed)\n",
    "                name, Re, Qe, Ae = experiment(env)\n",
    "                Ae = np.expand_dims(Ae, -1)\n",
    "                episode_mean_rew = np.cumsum(Re) / (np.arange(len(Re)) + 1)\n",
    "                Q_selected = np.take_along_axis(\n",
    "                    np.tile(true_Q, Ae.shape), Ae, axis=1).squeeze()\n",
    "                regret = opt_V - Q_selected\n",
    "                cum_regret = np.cumsum(regret)\n",
    "                if name not in results.keys(): results[name] = {}\n",
    "                if 'Re' not in results[name].keys(): results[name]['Re'] = []\n",
    "                if 'Qe' not in results[name].keys(): results[name]['Qe'] = []\n",
    "                if 'Ae' not in results[name].keys(): results[name]['Ae'] = []\n",
    "                if 'cum_regret' not in results[name].keys(): \n",
    "                    results[name]['cum_regret'] = []\n",
    "                if 'episode_mean_rew' not in results[name].keys(): \n",
    "                    results[name]['episode_mean_rew'] = []\n",
    "\n",
    "                results[name]['Re'].append(Re)\n",
    "                results[name]['Qe'].append(Qe)\n",
    "                results[name]['Ae'].append(Ae)\n",
    "                results[name]['cum_regret'].append(cum_regret)\n",
    "                results[name]['episode_mean_rew'].append(episode_mean_rew)\n",
    "    return results\n",
    "\n",
    "b10_results_s = b10_run_simple_strategies_experiment()"
   ]
  },
  {
   "cell_type": "markdown",
   "metadata": {},
   "source": [
    "# Plotting results of simple strategies on 10-Armed Bandit environments"
   ]
  },
  {
   "cell_type": "code",
   "execution_count": null,
   "metadata": {},
   "outputs": [],
   "source": [
    "fig, axs = plt.subplots(5, 1, figsize=(28, 28), sharey=False, sharex=False)\n",
    "\n",
    "lines = [\"-\",\"--\",\":\",\"-.\"]\n",
    "linecycler = cycle(lines)\n",
    "min_reg, max_ret = float('inf'), float('-inf')\n",
    "for label, result in b10_results_s.items():\n",
    "    color = next(linecycler)\n",
    "\n",
    "    # reward\n",
    "    episode_mean_rew = np.array(result['episode_mean_rew'])\n",
    "    mean_episode_mean_rew = np.mean(episode_mean_rew, axis=0)\n",
    "\n",
    "    axs[0].plot(mean_episode_mean_rew, color, linewidth=2, label=label)\n",
    "\n",
    "    axs[1].plot(mean_episode_mean_rew, color, linewidth=2, label=label)\n",
    "    axs[1].set_xscale('log')\n",
    "    \n",
    "    axs[2].plot(mean_episode_mean_rew, color, linewidth=2, label=label)\n",
    "    if max_ret < mean_episode_mean_rew[-1]: max_ret = mean_episode_mean_rew[-1]\n",
    "    axs[2].axis((mean_episode_mean_rew.shape[0]*0.989,\n",
    "                 mean_episode_mean_rew.shape[0],\n",
    "                 max_ret-0.06,\n",
    "                 max_ret+0.005))\n",
    "\n",
    "    # regret\n",
    "    cum_regret = np.array(result['cum_regret'])\n",
    "    mean_cum_regret = np.mean(cum_regret, axis=0)\n",
    "\n",
    "    axs[3].plot(mean_cum_regret, color, linewidth=2, label=label)\n",
    "    \n",
    "    axs[4].plot(mean_cum_regret, color, linewidth=2, label=label)\n",
    "    if min_reg > mean_cum_regret[-1]: min_reg = mean_cum_regret[-1]\n",
    "    plt.axis((mean_cum_regret.shape[0]*0.989,\n",
    "              mean_cum_regret.shape[0],\n",
    "              min_reg-5,\n",
    "              min_reg+45))\n",
    "\n",
    "    # config plot\n",
    "    axs[0].set_title('Mean Episode Reward')\n",
    "    axs[1].set_title('Mean Episode Reward (Log scale)')\n",
    "    axs[2].set_title('Mean Episode Reward (Zoom on best)')\n",
    "    axs[3].set_title('Total Regret')\n",
    "    axs[4].set_title('Total Regret (Zoom on best)')\n",
    "    plt.xlabel('Episodes')\n",
    "    axs[0].legend(loc='upper left')\n",
    "\n",
    "plt.show()"
   ]
  },
  {
   "cell_type": "markdown",
   "metadata": {},
   "source": [
    "# Running advanced strategies on 10-Armed Bandit environments"
   ]
  },
  {
   "cell_type": "code",
   "execution_count": null,
   "metadata": {},
   "outputs": [],
   "source": [
    "def b10_run_advanced_strategies_experiment(env_name='BanditTenArmedGaussian-v0'):\n",
    "    results = {}\n",
    "    experiments = [\n",
    "        # baseline strategies \n",
    "        lambda env: pure_exploitation(env),\n",
    "        lambda env: pure_exploration(env),\n",
    "\n",
    "        # best from simple strategies\n",
    "        lambda env: lin_dec_epsilon_greedy(env, \n",
    "                                           init_epsilon=1.0,\n",
    "                                           min_epsilon=0.0,\n",
    "                                           decay_ratio=0.1),\n",
    "        lambda env: exp_dec_epsilon_greedy(env, \n",
    "                                           init_epsilon=1.0, \n",
    "                                           min_epsilon=0.0,\n",
    "                                           decay_ratio=0.1),\n",
    "\n",
    "        # softmax\n",
    "        lambda env: softmax(env, \n",
    "                            init_temp=float('inf'), \n",
    "                            min_temp=0.0, \n",
    "                            decay_ratio=0.005),\n",
    "        lambda env: softmax(env, \n",
    "                            init_temp=100, \n",
    "                            min_temp=0.01, \n",
    "                            decay_ratio=0.01),\n",
    "\n",
    "        # ucb\n",
    "        lambda env: upper_confidence_bound(env, c=0.2),\n",
    "        lambda env: upper_confidence_bound(env, c=0.5),\n",
    "\n",
    "        # thompson sampling\n",
    "        lambda env: thompson_sampling(env, alpha=1, beta=1),\n",
    "        lambda env: thompson_sampling(env, alpha=0.5, beta=0.5),\n",
    "    ]\n",
    "    for env_seed in tqdm(SEEDS, desc='All experiments'):\n",
    "        env = gym.make(env_name, seed=env_seed) ; env.reset()\n",
    "        r_dist = np.array(env.env.r_dist)[:,0]\n",
    "        true_Q = np.array(env.env.p_dist * r_dist)\n",
    "        opt_V = np.max(true_Q)\n",
    "        for seed in tqdm(SEEDS, desc='All environments', leave=False):\n",
    "            for experiment in tqdm(experiments, \n",
    "                                   desc='Experiments with seed {}'.format(seed), \n",
    "                                   leave=False):\n",
    "                env.seed(seed) ; np.random.seed(seed) ; random.seed(seed)\n",
    "                name, Re, Qe, Ae = experiment(env)\n",
    "                Ae = np.expand_dims(Ae, -1)\n",
    "                episode_mean_rew = np.cumsum(Re) / (np.arange(len(Re)) + 1)\n",
    "                Q_selected = np.take_along_axis(\n",
    "                    np.tile(true_Q, Ae.shape), Ae, axis=1).squeeze()\n",
    "                regret = opt_V - Q_selected\n",
    "                cum_regret = np.cumsum(regret)\n",
    "                if name not in results.keys(): results[name] = {}\n",
    "                if 'Re' not in results[name].keys(): results[name]['Re'] = []\n",
    "                if 'Qe' not in results[name].keys(): results[name]['Qe'] = []\n",
    "                if 'Ae' not in results[name].keys(): results[name]['Ae'] = []\n",
    "                if 'cum_regret' not in results[name].keys(): \n",
    "                    results[name]['cum_regret'] = []\n",
    "                if 'episode_mean_rew' not in results[name].keys():\n",
    "                    results[name]['episode_mean_rew'] = []\n",
    "\n",
    "                results[name]['Re'].append(Re)\n",
    "                results[name]['Qe'].append(Qe)\n",
    "                results[name]['Ae'].append(Ae)\n",
    "                results[name]['cum_regret'].append(cum_regret)\n",
    "                results[name]['episode_mean_rew'].append(episode_mean_rew)\n",
    "    return results\n",
    "\n",
    "b10_results_a = b10_run_advanced_strategies_experiment()"
   ]
  },
  {
   "cell_type": "markdown",
   "metadata": {},
   "source": [
    "# Plotting results of advanced strategies on 10-Armed Bandit environments"
   ]
  },
  {
   "cell_type": "code",
   "execution_count": null,
   "metadata": {},
   "outputs": [],
   "source": [
    "fig, axs = plt.subplots(5, 1, figsize=(28, 28), sharey=False, sharex=False)\n",
    "\n",
    "lines = [\"-\",\"--\",\":\",\"-.\"]\n",
    "linecycler = cycle(lines)\n",
    "min_reg, max_ret = float('inf'), float('-inf')\n",
    "for label, result in b10_results_a.items():\n",
    "    color = next(linecycler)\n",
    "\n",
    "    # reward\n",
    "    episode_mean_rew = np.array(result['episode_mean_rew'])\n",
    "    mean_episode_mean_rew = np.mean(episode_mean_rew, axis=0)\n",
    "\n",
    "    axs[0].plot(mean_episode_mean_rew, color, linewidth=2, label=label)\n",
    "\n",
    "    axs[1].plot(mean_episode_mean_rew, color, linewidth=2, label=label)\n",
    "    axs[1].set_xscale('log')\n",
    "    \n",
    "    axs[2].plot(mean_episode_mean_rew, color, linewidth=2, label=label)\n",
    "    if max_ret < mean_episode_mean_rew[-1]: max_ret = mean_episode_mean_rew[-1]\n",
    "    axs[2].axis((mean_episode_mean_rew.shape[0]*0.989,\n",
    "                 mean_episode_mean_rew.shape[0],\n",
    "                 max_ret-0.01,\n",
    "                 max_ret+0.005))\n",
    "\n",
    "    # regret\n",
    "    cum_regret = np.array(result['cum_regret'])\n",
    "    mean_cum_regret = np.mean(cum_regret, axis=0)\n",
    "\n",
    "    axs[3].plot(mean_cum_regret, color, linewidth=2, label=label)\n",
    "    \n",
    "    axs[4].plot(mean_cum_regret, color, linewidth=2, label=label)\n",
    "    if min_reg > mean_cum_regret[-1]: min_reg = mean_cum_regret[-1]\n",
    "    plt.axis((mean_cum_regret.shape[0]*0.989,\n",
    "              mean_cum_regret.shape[0],\n",
    "              min_reg-5,\n",
    "              min_reg+12))\n",
    "\n",
    "    # config plot\n",
    "    axs[0].set_title('Mean Episode Reward')\n",
    "    axs[1].set_title('Mean Episode Reward (Log scale)')\n",
    "    axs[2].set_title('Mean Episode Reward (Zoom on best)')\n",
    "    axs[3].set_title('Total Regret')\n",
    "    axs[4].set_title('Total Regret (Zoom on best)')\n",
    "    plt.xlabel('Episodes')\n",
    "    axs[0].legend(loc='upper left')\n",
    "\n",
    "plt.show()"
   ]
  }
 ],
 "metadata": {
  "kernelspec": {
   "display_name": "Python 3",
   "language": "python",
   "name": "python3"
  },
  "language_info": {
   "codemirror_mode": {
    "name": "ipython",
    "version": 3
   },
   "file_extension": ".py",
   "mimetype": "text/x-python",
   "name": "python",
   "nbconvert_exporter": "python",
   "pygments_lexer": "ipython3",
   "version": "3.7.3"
  }
 },
 "nbformat": 4,
 "nbformat_minor": 2
}
